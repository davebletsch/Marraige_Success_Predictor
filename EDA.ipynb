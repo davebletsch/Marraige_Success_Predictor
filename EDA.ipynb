{
 "cells": [
  {
   "cell_type": "code",
   "execution_count": 1,
   "metadata": {},
   "outputs": [],
   "source": [
    "import pandas as pd\n",
    "import numpy as np\n",
    "\n",
    "import seaborn as sns\n",
    "import matplotlib.pyplot as plt\n",
    "%matplotlib inline"
   ]
  },
  {
   "cell_type": "code",
   "execution_count": 2,
   "metadata": {},
   "outputs": [],
   "source": [
    "df = pd.read_csv('adult.data', header=None)"
   ]
  },
  {
   "cell_type": "markdown",
   "metadata": {},
   "source": [
    "# Preprocessing"
   ]
  },
  {
   "cell_type": "markdown",
   "metadata": {},
   "source": [
    "## Data Cleaning"
   ]
  },
  {
   "cell_type": "code",
   "execution_count": 3,
   "metadata": {},
   "outputs": [],
   "source": [
    "# rename columns\n",
    "columns = ['age', 'workclass', 'final_weight', 'education', 'education_num',\n",
    "           'marital_status', 'occupation', 'relationship', 'race',\n",
    "           'sex', 'capital_gain', 'capital_loss', 'hours_per_week',\n",
    "           'native_country', 'income']\n",
    "df.columns=columns"
   ]
  },
  {
   "cell_type": "code",
   "execution_count": 4,
   "metadata": {},
   "outputs": [],
   "source": [
    "# Continuous vs. Discrete independent variables\n",
    "columns_cont = ['age', 'capital_gain', 'capital_loss', 'hours_per_week']\n",
    "columns_dis = ['workclass', 'education_num', 'occupation',\n",
    "               'race', 'sex', 'native_country']"
   ]
  },
  {
   "cell_type": "code",
   "execution_count": 5,
   "metadata": {},
   "outputs": [],
   "source": [
    "# Remove leading white space in text columns\n",
    "df.workclass      = df.workclass.str.strip()\n",
    "df.education      = df.education.str.strip()\n",
    "df.marital_status = df.marital_status.str.strip()\n",
    "df.occupation     = df.occupation.str.strip()\n",
    "df.race           = df.race.str.strip()\n",
    "df.sex            = df.sex.str.strip()\n",
    "df.native_country = df.native_country.str.strip()\n",
    "df.income         = df.income.str.strip()"
   ]
  },
  {
   "cell_type": "markdown",
   "metadata": {},
   "source": [
    "### Drop duplicates"
   ]
  },
  {
   "cell_type": "code",
   "execution_count": 6,
   "metadata": {},
   "outputs": [
    {
     "data": {
      "text/plain": [
       "(32561, 15)"
      ]
     },
     "execution_count": 6,
     "metadata": {},
     "output_type": "execute_result"
    }
   ],
   "source": [
    "df.shape"
   ]
  },
  {
   "cell_type": "code",
   "execution_count": 7,
   "metadata": {},
   "outputs": [],
   "source": [
    "# drop 24 duplicate rows\n",
    "df.drop_duplicates(keep='first', inplace=True)"
   ]
  },
  {
   "cell_type": "code",
   "execution_count": 8,
   "metadata": {},
   "outputs": [
    {
     "data": {
      "text/plain": [
       "(32537, 15)"
      ]
     },
     "execution_count": 8,
     "metadata": {},
     "output_type": "execute_result"
    }
   ],
   "source": [
    "df.shape"
   ]
  },
  {
   "cell_type": "markdown",
   "metadata": {},
   "source": [
    "### Uncertain of input - values to drop"
   ]
  },
  {
   "cell_type": "code",
   "execution_count": 9,
   "metadata": {},
   "outputs": [
    {
     "data": {
      "text/plain": [
       "(32537, 15)"
      ]
     },
     "execution_count": 9,
     "metadata": {},
     "output_type": "execute_result"
    }
   ],
   "source": [
    "df.shape"
   ]
  },
  {
   "cell_type": "code",
   "execution_count": 10,
   "metadata": {},
   "outputs": [],
   "source": [
    "# To Drop - uncertain value\n",
    "uncertain_marital = ['Never-married', 'Widowed', 'Married-AF-spouse']\n",
    "uncertain_country = ['?', 'South']\n",
    "uncertain_occupation = ['?']"
   ]
  },
  {
   "cell_type": "code",
   "execution_count": 11,
   "metadata": {},
   "outputs": [],
   "source": [
    "# Drop rows where marital_status is not relevant\n",
    "df2 = df[~df.marital_status.isin(uncertain_marital)]"
   ]
  },
  {
   "cell_type": "code",
   "execution_count": 12,
   "metadata": {},
   "outputs": [
    {
     "data": {
      "text/plain": [
       "(20854, 15)"
      ]
     },
     "execution_count": 12,
     "metadata": {},
     "output_type": "execute_result"
    }
   ],
   "source": [
    "# Removed 11,699 rows\n",
    "df2.shape"
   ]
  },
  {
   "cell_type": "code",
   "execution_count": 13,
   "metadata": {},
   "outputs": [],
   "source": [
    "# Drop rows where native_country is not relevant\n",
    "df3 = df2[~df2.native_country.isin(uncertain_country)]"
   ]
  },
  {
   "cell_type": "code",
   "execution_count": 14,
   "metadata": {},
   "outputs": [
    {
     "data": {
      "text/plain": [
       "(20431, 15)"
      ]
     },
     "execution_count": 14,
     "metadata": {},
     "output_type": "execute_result"
    }
   ],
   "source": [
    "# Removed 423 more rows\n",
    "df3.shape"
   ]
  },
  {
   "cell_type": "code",
   "execution_count": 15,
   "metadata": {},
   "outputs": [],
   "source": [
    "# Drop rows where occupation is not relevant\n",
    "df4 = df3[~df3.occupation.isin(uncertain_occupation)]"
   ]
  },
  {
   "cell_type": "code",
   "execution_count": 16,
   "metadata": {},
   "outputs": [
    {
     "data": {
      "text/plain": [
       "(19534, 15)"
      ]
     },
     "execution_count": 16,
     "metadata": {},
     "output_type": "execute_result"
    }
   ],
   "source": [
    "# Removed 897 more rows\n",
    "df4.shape"
   ]
  },
  {
   "cell_type": "code",
   "execution_count": 17,
   "metadata": {},
   "outputs": [
    {
     "name": "stderr",
     "output_type": "stream",
     "text": [
      "/Users/davebletsch/anaconda3/lib/python3.7/site-packages/pandas/core/frame.py:3982: SettingWithCopyWarning: \n",
      "A value is trying to be set on a copy of a slice from a DataFrame\n",
      "\n",
      "See the caveats in the documentation: https://pandas.pydata.org/pandas-docs/stable/user_guide/indexing.html#returning-a-view-versus-a-copy\n",
      "  errors=errors,\n"
     ]
    }
   ],
   "source": [
    "# Removing column from original data creation\n",
    "df4.drop(['final_weight', 'relationship'], axis=1, inplace=True)"
   ]
  },
  {
   "cell_type": "code",
   "execution_count": 18,
   "metadata": {},
   "outputs": [
    {
     "data": {
      "text/plain": [
       "<=50K    12602\n",
       ">50K      6932\n",
       "Name: income, dtype: int64"
      ]
     },
     "execution_count": 18,
     "metadata": {},
     "output_type": "execute_result"
    }
   ],
   "source": [
    "df4.income.value_counts()"
   ]
  },
  {
   "cell_type": "code",
   "execution_count": 19,
   "metadata": {},
   "outputs": [
    {
     "name": "stderr",
     "output_type": "stream",
     "text": [
      "/Users/davebletsch/anaconda3/lib/python3.7/site-packages/pandas/core/frame.py:4157: SettingWithCopyWarning: \n",
      "A value is trying to be set on a copy of a slice from a DataFrame\n",
      "\n",
      "See the caveats in the documentation: https://pandas.pydata.org/pandas-docs/stable/user_guide/indexing.html#returning-a-view-versus-a-copy\n",
      "  method=method,\n"
     ]
    }
   ],
   "source": [
    "df4.replace({'<=50K': '<=85k', '>50K':'>85k'}, inplace=True)"
   ]
  },
  {
   "cell_type": "code",
   "execution_count": 20,
   "metadata": {},
   "outputs": [
    {
     "data": {
      "text/plain": [
       "<=85k    12602\n",
       ">85k      6932\n",
       "Name: income, dtype: int64"
      ]
     },
     "execution_count": 20,
     "metadata": {},
     "output_type": "execute_result"
    }
   ],
   "source": [
    "df4.income.value_counts()"
   ]
  },
  {
   "cell_type": "markdown",
   "metadata": {},
   "source": [
    "## * df4 contains cleaned, relevant data *"
   ]
  },
  {
   "cell_type": "markdown",
   "metadata": {},
   "source": [
    "# EDA"
   ]
  },
  {
   "cell_type": "code",
   "execution_count": 21,
   "metadata": {},
   "outputs": [
    {
     "name": "stdout",
     "output_type": "stream",
     "text": [
      "workclass:\n",
      "\n",
      "Private             13638\n",
      "Self-emp-not-inc     2006\n",
      "Local-gov            1457\n",
      "Self-emp-inc          919\n",
      "State-gov             842\n",
      "Federal-gov           663\n",
      "Without-pay             9\n",
      "Name: workclass, dtype: int64\n",
      "\n",
      "\n",
      "Total:  19534\n",
      "\n",
      "\n",
      "education_num:\n",
      "\n",
      "9     6574\n",
      "10    3972\n",
      "13    3240\n",
      "14    1204\n",
      "11     934\n",
      "12     678\n",
      "7      504\n",
      "6      487\n",
      "15     448\n",
      "4      408\n",
      "5      301\n",
      "16     301\n",
      "3      198\n",
      "8      166\n",
      "2       98\n",
      "1       21\n",
      "Name: education_num, dtype: int64\n",
      "\n",
      "\n",
      "Total:  19534\n",
      "\n",
      "\n",
      "occupation:\n",
      "\n",
      "Craft-repair         3119\n",
      "Exec-managerial      3108\n",
      "Prof-specialty       2730\n",
      "Sales                2176\n",
      "Adm-clerical         1984\n",
      "Other-service        1421\n",
      "Machine-op-inspct    1349\n",
      "Transport-moving     1214\n",
      "Farming-fishing       681\n",
      "Handlers-cleaners     643\n",
      "Tech-support          569\n",
      "Protective-serv       479\n",
      "Priv-house-serv        58\n",
      "Armed-Forces            3\n",
      "Name: occupation, dtype: int64\n",
      "\n",
      "\n",
      "Total:  19534\n",
      "\n",
      "\n",
      "race:\n",
      "\n",
      "White                 17185\n",
      "Black                  1512\n",
      "Asian-Pac-Islander      515\n",
      "Amer-Indian-Eskimo      180\n",
      "Other                   142\n",
      "Name: race, dtype: int64\n",
      "\n",
      "\n",
      "Total:  19534\n",
      "\n",
      "\n",
      "sex:\n",
      "\n",
      "Male      14780\n",
      "Female     4754\n",
      "Name: sex, dtype: int64\n",
      "\n",
      "\n",
      "Total:  19534\n",
      "\n",
      "\n",
      "native_country:\n",
      "\n",
      "United-States                 17841\n",
      "Mexico                          381\n",
      "Philippines                     130\n",
      "Germany                          94\n",
      "India                            77\n",
      "Canada                           74\n",
      "Puerto-Rico                      73\n",
      "Cuba                             70\n",
      "China                            59\n",
      "England                          56\n",
      "Italy                            55\n",
      "El-Salvador                      51\n",
      "Japan                            44\n",
      "Jamaica                          41\n",
      "Poland                           41\n",
      "Dominican-Republic               40\n",
      "Iran                             33\n",
      "Columbia                         33\n",
      "Vietnam                          30\n",
      "Guatemala                        30\n",
      "Taiwan                           28\n",
      "Portugal                         26\n",
      "Haiti                            24\n",
      "Greece                           22\n",
      "France                           18\n",
      "Peru                             18\n",
      "Ecuador                          17\n",
      "Nicaragua                        16\n",
      "Ireland                          13\n",
      "Yugoslavia                       13\n",
      "Hong                             13\n",
      "Cambodia                         12\n",
      "Trinadad&Tobago                  12\n",
      "Laos                             11\n",
      "Thailand                          9\n",
      "Scotland                          8\n",
      "Honduras                          8\n",
      "Hungary                           7\n",
      "Outlying-US(Guam-USVI-etc)        6\n",
      "Name: native_country, dtype: int64\n",
      "\n",
      "\n",
      "Total:  19534\n",
      "\n",
      "\n"
     ]
    }
   ],
   "source": [
    "# Print value_counts for all discrete independent variables \n",
    "for col in columns_dis:\n",
    "    print(col + ':\\n')\n",
    "    print(df4[str(col)].value_counts())\n",
    "    print('\\n')\n",
    "    print('Total: ', df4[str(col)].value_counts().sum())\n",
    "    print('\\n')"
   ]
  },
  {
   "cell_type": "code",
   "execution_count": 22,
   "metadata": {},
   "outputs": [],
   "source": [
    "# To classify dependent variable\n",
    "neg_marital_status = ['Divorced', 'Separated', 'Married-spouse-absent']"
   ]
  },
  {
   "cell_type": "code",
   "execution_count": 23,
   "metadata": {},
   "outputs": [],
   "source": [
    "# Positive marriage outcome\n",
    "married = df4.marital_status == 'Married-civ-spouse'\n",
    "not_married = df4.marital_status.isin(neg_marital_status)"
   ]
  },
  {
   "cell_type": "code",
   "execution_count": 24,
   "metadata": {},
   "outputs": [
    {
     "name": "stdout",
     "output_type": "stream",
     "text": [
      "Divorced                 4206\n",
      "Separated                 937\n",
      "Married-spouse-absent     369\n",
      "Name: marital_status, dtype: int64\n",
      "\n",
      "Married-civ-spouse    14022\n",
      "Name: marital_status, dtype: int64\n"
     ]
    }
   ],
   "source": [
    "# Check if filtering worked\n",
    "print(df4[not_married].marital_status.value_counts())\n",
    "print('')\n",
    "print(df4[married].marital_status.value_counts())"
   ]
  },
  {
   "cell_type": "markdown",
   "metadata": {},
   "source": [
    "## Binary Encoding of categorical data"
   ]
  },
  {
   "cell_type": "markdown",
   "metadata": {},
   "source": [
    "#### marital_status"
   ]
  },
  {
   "cell_type": "code",
   "execution_count": 25,
   "metadata": {},
   "outputs": [
    {
     "name": "stderr",
     "output_type": "stream",
     "text": [
      "/Users/davebletsch/anaconda3/lib/python3.7/site-packages/pandas/core/indexing.py:965: SettingWithCopyWarning: \n",
      "A value is trying to be set on a copy of a slice from a DataFrame.\n",
      "Try using .loc[row_indexer,col_indexer] = value instead\n",
      "\n",
      "See the caveats in the documentation: https://pandas.pydata.org/pandas-docs/stable/user_guide/indexing.html#returning-a-view-versus-a-copy\n",
      "  self.obj[item] = s\n"
     ]
    }
   ],
   "source": [
    "df4.loc[df4.marital_status.isin(neg_marital_status), 'marital_status'] = 0\n",
    "df4.loc[df4.marital_status == 'Married-civ-spouse', 'marital_status'] = 1"
   ]
  },
  {
   "cell_type": "code",
   "execution_count": 26,
   "metadata": {},
   "outputs": [
    {
     "data": {
      "text/plain": [
       "1    14022\n",
       "0     5512\n",
       "Name: marital_status, dtype: int64"
      ]
     },
     "execution_count": 26,
     "metadata": {},
     "output_type": "execute_result"
    }
   ],
   "source": [
    "df4.marital_status.value_counts()"
   ]
  },
  {
   "cell_type": "markdown",
   "metadata": {},
   "source": [
    "Move cleaned dataset to a new workbook"
   ]
  },
  {
   "cell_type": "code",
   "execution_count": 27,
   "metadata": {},
   "outputs": [
    {
     "data": {
      "text/html": [
       "<div>\n",
       "<style scoped>\n",
       "    .dataframe tbody tr th:only-of-type {\n",
       "        vertical-align: middle;\n",
       "    }\n",
       "\n",
       "    .dataframe tbody tr th {\n",
       "        vertical-align: top;\n",
       "    }\n",
       "\n",
       "    .dataframe thead th {\n",
       "        text-align: right;\n",
       "    }\n",
       "</style>\n",
       "<table border=\"1\" class=\"dataframe\">\n",
       "  <thead>\n",
       "    <tr style=\"text-align: right;\">\n",
       "      <th></th>\n",
       "      <th>age</th>\n",
       "      <th>workclass</th>\n",
       "      <th>education</th>\n",
       "      <th>education_num</th>\n",
       "      <th>marital_status</th>\n",
       "      <th>occupation</th>\n",
       "      <th>race</th>\n",
       "      <th>sex</th>\n",
       "      <th>capital_gain</th>\n",
       "      <th>capital_loss</th>\n",
       "      <th>hours_per_week</th>\n",
       "      <th>native_country</th>\n",
       "      <th>income</th>\n",
       "    </tr>\n",
       "  </thead>\n",
       "  <tbody>\n",
       "    <tr>\n",
       "      <th>1</th>\n",
       "      <td>50</td>\n",
       "      <td>Self-emp-not-inc</td>\n",
       "      <td>Bachelors</td>\n",
       "      <td>13</td>\n",
       "      <td>1</td>\n",
       "      <td>Exec-managerial</td>\n",
       "      <td>White</td>\n",
       "      <td>Male</td>\n",
       "      <td>0</td>\n",
       "      <td>0</td>\n",
       "      <td>13</td>\n",
       "      <td>United-States</td>\n",
       "      <td>&lt;=85k</td>\n",
       "    </tr>\n",
       "    <tr>\n",
       "      <th>2</th>\n",
       "      <td>38</td>\n",
       "      <td>Private</td>\n",
       "      <td>HS-grad</td>\n",
       "      <td>9</td>\n",
       "      <td>0</td>\n",
       "      <td>Handlers-cleaners</td>\n",
       "      <td>White</td>\n",
       "      <td>Male</td>\n",
       "      <td>0</td>\n",
       "      <td>0</td>\n",
       "      <td>40</td>\n",
       "      <td>United-States</td>\n",
       "      <td>&lt;=85k</td>\n",
       "    </tr>\n",
       "    <tr>\n",
       "      <th>3</th>\n",
       "      <td>53</td>\n",
       "      <td>Private</td>\n",
       "      <td>11th</td>\n",
       "      <td>7</td>\n",
       "      <td>1</td>\n",
       "      <td>Handlers-cleaners</td>\n",
       "      <td>Black</td>\n",
       "      <td>Male</td>\n",
       "      <td>0</td>\n",
       "      <td>0</td>\n",
       "      <td>40</td>\n",
       "      <td>United-States</td>\n",
       "      <td>&lt;=85k</td>\n",
       "    </tr>\n",
       "    <tr>\n",
       "      <th>4</th>\n",
       "      <td>28</td>\n",
       "      <td>Private</td>\n",
       "      <td>Bachelors</td>\n",
       "      <td>13</td>\n",
       "      <td>1</td>\n",
       "      <td>Prof-specialty</td>\n",
       "      <td>Black</td>\n",
       "      <td>Female</td>\n",
       "      <td>0</td>\n",
       "      <td>0</td>\n",
       "      <td>40</td>\n",
       "      <td>Cuba</td>\n",
       "      <td>&lt;=85k</td>\n",
       "    </tr>\n",
       "    <tr>\n",
       "      <th>5</th>\n",
       "      <td>37</td>\n",
       "      <td>Private</td>\n",
       "      <td>Masters</td>\n",
       "      <td>14</td>\n",
       "      <td>1</td>\n",
       "      <td>Exec-managerial</td>\n",
       "      <td>White</td>\n",
       "      <td>Female</td>\n",
       "      <td>0</td>\n",
       "      <td>0</td>\n",
       "      <td>40</td>\n",
       "      <td>United-States</td>\n",
       "      <td>&lt;=85k</td>\n",
       "    </tr>\n",
       "  </tbody>\n",
       "</table>\n",
       "</div>"
      ],
      "text/plain": [
       "   age         workclass  education  education_num marital_status  \\\n",
       "1   50  Self-emp-not-inc  Bachelors             13              1   \n",
       "2   38           Private    HS-grad              9              0   \n",
       "3   53           Private       11th              7              1   \n",
       "4   28           Private  Bachelors             13              1   \n",
       "5   37           Private    Masters             14              1   \n",
       "\n",
       "          occupation   race     sex  capital_gain  capital_loss  \\\n",
       "1    Exec-managerial  White    Male             0             0   \n",
       "2  Handlers-cleaners  White    Male             0             0   \n",
       "3  Handlers-cleaners  Black    Male             0             0   \n",
       "4     Prof-specialty  Black  Female             0             0   \n",
       "5    Exec-managerial  White  Female             0             0   \n",
       "\n",
       "   hours_per_week native_country income  \n",
       "1              13  United-States  <=85k  \n",
       "2              40  United-States  <=85k  \n",
       "3              40  United-States  <=85k  \n",
       "4              40           Cuba  <=85k  \n",
       "5              40  United-States  <=85k  "
      ]
     },
     "execution_count": 27,
     "metadata": {},
     "output_type": "execute_result"
    }
   ],
   "source": [
    "df4.head()"
   ]
  },
  {
   "cell_type": "code",
   "execution_count": 28,
   "metadata": {},
   "outputs": [],
   "source": [
    "df4.to_csv('marriage.csv')"
   ]
  },
  {
   "cell_type": "markdown",
   "metadata": {},
   "source": [
    "# Visualizations"
   ]
  },
  {
   "cell_type": "markdown",
   "metadata": {},
   "source": [
    "### Target Variable"
   ]
  },
  {
   "cell_type": "code",
   "execution_count": 29,
   "metadata": {},
   "outputs": [
    {
     "name": "stdout",
     "output_type": "stream",
     "text": [
      "Target Variable\n",
      "marital_status\n",
      "0     5512\n",
      "1    14022\n",
      "Name: marital_status, dtype: int64\n"
     ]
    },
    {
     "data": {
      "image/png": "[encoded data removed]",
      "text/plain": [
       "<Figure size 720x360 with 1 Axes>"
      ]
     },
     "metadata": {},
     "output_type": "display_data"
    }
   ],
   "source": [
    "# Favorable Marriage Count\n",
    "print('Target Variable')\n",
    "print(df4.groupby(['marital_status']).marital_status.count())\n",
    "\n",
    "# Target Variable Countplot\n",
    "sns.set_style('darkgrid')\n",
    "fig_target = plt.figure(figsize = (10,5))\n",
    "sns.countplot(df4['marital_status'], alpha =.80, palette= ['grey','lightgreen'])\n",
    "plt.title('Married vs. Neg. Marital Status')\n",
    "plt.ylabel('# respondents')\n",
    "plt.xticks(ticks=[0,1], labels=['Separated/Divorced', 'Married'])\n",
    "plt.show()"
   ]
  },
  {
   "cell_type": "markdown",
   "metadata": {},
   "source": [
    "## Null Accuracy"
   ]
  },
  {
   "cell_type": "code",
   "execution_count": 30,
   "metadata": {},
   "outputs": [
    {
     "name": "stdout",
     "output_type": "stream",
     "text": [
      "0.28\n"
     ]
    }
   ],
   "source": [
    "# Null accuracy\n",
    "null_acc = len(df4[not_married])/len(df4)\n",
    "\n",
    "# Assuming every marriage will end in divorce/separation using this data\n",
    "# National Average: between 42-45%\n",
    "print('{:0.2f}'.format(null_acc))"
   ]
  },
  {
   "cell_type": "markdown",
   "metadata": {},
   "source": [
    "### Discrete Variables"
   ]
  },
  {
   "cell_type": "code",
   "execution_count": 31,
   "metadata": {
    "scrolled": true
   },
   "outputs": [
    {
     "name": "stdout",
     "output_type": "stream",
     "text": [
      "Discrete Variables\n",
      "\n",
      "\n",
      "workclass\n",
      "Federal-gov           663\n",
      "Local-gov            1457\n",
      "Private             13638\n",
      "Self-emp-inc          919\n",
      "Self-emp-not-inc     2006\n",
      "State-gov             842\n",
      "Without-pay             9\n",
      "Name: workclass, dtype: int64 \n",
      "\n",
      "education_num\n",
      "1       21\n",
      "2       98\n",
      "3      198\n",
      "4      408\n",
      "5      301\n",
      "6      487\n",
      "7      504\n",
      "8      166\n",
      "9     6574\n",
      "10    3972\n",
      "11     934\n",
      "12     678\n",
      "13    3240\n",
      "14    1204\n",
      "15     448\n",
      "16     301\n",
      "Name: education_num, dtype: int64 \n",
      "\n",
      "occupation\n",
      "Adm-clerical         1984\n",
      "Armed-Forces            3\n",
      "Craft-repair         3119\n",
      "Exec-managerial      3108\n",
      "Farming-fishing       681\n",
      "Handlers-cleaners     643\n",
      "Machine-op-inspct    1349\n",
      "Other-service        1421\n",
      "Priv-house-serv        58\n",
      "Prof-specialty       2730\n",
      "Protective-serv       479\n",
      "Sales                2176\n",
      "Tech-support          569\n",
      "Transport-moving     1214\n",
      "Name: occupation, dtype: int64 \n",
      "\n",
      "race\n",
      "Amer-Indian-Eskimo      180\n",
      "Asian-Pac-Islander      515\n",
      "Black                  1512\n",
      "Other                   142\n",
      "White                 17185\n",
      "Name: race, dtype: int64 \n",
      "\n",
      "sex\n",
      "Female     4754\n",
      "Male      14780\n",
      "Name: sex, dtype: int64 \n",
      "\n",
      "native_country\n",
      "Cambodia                         12\n",
      "Canada                           74\n",
      "China                            59\n",
      "Columbia                         33\n",
      "Cuba                             70\n",
      "Dominican-Republic               40\n",
      "Ecuador                          17\n",
      "El-Salvador                      51\n",
      "England                          56\n",
      "France                           18\n",
      "Germany                          94\n",
      "Greece                           22\n",
      "Guatemala                        30\n",
      "Haiti                            24\n",
      "Honduras                          8\n",
      "Hong                             13\n",
      "Hungary                           7\n",
      "India                            77\n",
      "Iran                             33\n",
      "Ireland                          13\n",
      "Italy                            55\n",
      "Jamaica                          41\n",
      "Japan                            44\n",
      "Laos                             11\n",
      "Mexico                          381\n",
      "Nicaragua                        16\n",
      "Outlying-US(Guam-USVI-etc)        6\n",
      "Peru                             18\n",
      "Philippines                     130\n",
      "Poland                           41\n",
      "Portugal                         26\n",
      "Puerto-Rico                      73\n",
      "Scotland                          8\n",
      "Taiwan                           28\n",
      "Thailand                          9\n",
      "Trinadad&Tobago                  12\n",
      "United-States                 17841\n",
      "Vietnam                          30\n",
      "Yugoslavia                       13\n",
      "Name: native_country, dtype: int64 \n",
      "\n"
     ]
    }
   ],
   "source": [
    "# Identify categorical features\n",
    "print('Discrete Variables\\n\\n')\n",
    "print(df4.groupby('workclass').workclass.count(), '\\n')\n",
    "print(df4.groupby('education_num').education_num.count(), '\\n')\n",
    "print(df4.groupby('occupation').occupation.count(), '\\n')\n",
    "print(df4.groupby('race').race.count(), '\\n')\n",
    "print(df4.groupby('sex').sex.count(), '\\n')\n",
    "print(df4.groupby('native_country').native_country.count(), '\\n')"
   ]
  },
  {
   "cell_type": "markdown",
   "metadata": {},
   "source": [
    "### Frequency Distributions (discrete variables)"
   ]
  },
  {
   "cell_type": "code",
   "execution_count": 32,
   "metadata": {},
   "outputs": [],
   "source": [
    "education_range = ['Preschool', '4th grade', '6th grade', '8th grade',\n",
    "                     '9th grade', '10th grade', '11th grade', '12th grade',\n",
    "                     'HS-grad', 'Some college', 'Associates - voc', 'Associates - acad',\n",
    "                     'Bachelors', 'Masters', 'Prof School', 'Doctorate']"
   ]
  },
  {
   "cell_type": "code",
   "execution_count": 33,
   "metadata": {},
   "outputs": [
    {
     "data": {
      "image/png": "[encoded data removed]",
      "text/plain": [
       "<Figure size 1440x1440 with 5 Axes>"
      ]
     },
     "metadata": {},
     "output_type": "display_data"
    }
   ],
   "source": [
    "sns.set_style('darkgrid')\n",
    "fig_discrete = plt.figure(figsize=(20,20))\n",
    "fig_discrete.subplots_adjust(hspace=.50)\n",
    "\n",
    "ax1 = fig_discrete.add_subplot(321)\n",
    "ax1.hist(df4.workclass, bins=20, alpha=.5, edgecolor='black', color='blue')\n",
    "ax1.set_xlabel('workclass', fontsize = 15)\n",
    "plt.setp(ax1.xaxis.get_majorticklabels(), rotation=30, horizontalalignment='right')\n",
    "ax1.set_ylabel('# respondents', fontsize = 13)\n",
    "ax1.set_title('Type of Employement', fontsize = 15)\n",
    "\n",
    "ax2 = fig_discrete.add_subplot(322)\n",
    "ax2.hist(df4.education_num, bins=16, alpha=.5, edgecolor='black', color='blue')\n",
    "ax2.set_xlabel('Highest level of education completed', fontsize = 13)\n",
    "ax2.set_xticks(np.arange(len(education_range)+1))\n",
    "ax2.set_xticklabels(education_range)\n",
    "plt.setp(ax2.xaxis.get_majorticklabels(), rotation=45, ha='center')\n",
    "ax2.set_title('Education', fontsize = 15)\n",
    "\n",
    "ax3 = fig_discrete.add_subplot(323)\n",
    "ax3.hist(df4.occupation, bins=14, alpha=.5, edgecolor='black', color='blue')\n",
    "plt.setp(ax3.xaxis.get_majorticklabels(), rotation=30, horizontalalignment='right')\n",
    "ax3.set_ylabel('# respondents',fontsize = 13)\n",
    "ax3.set_title('Career Type', fontsize = 15)\n",
    "\n",
    "ax4 = fig_discrete.add_subplot(324)\n",
    "ax4.hist(df4.race, bins=9, alpha=.5, edgecolor='black', color='blue')\n",
    "plt.setp(ax4.xaxis.get_majorticklabels(), rotation=30, horizontalalignment='right')\n",
    "ax4.set_title('Race', fontsize = 15)\n",
    "\n",
    "# ax5 = fig_discrete.add_subplot(325)\n",
    "# ax5.hist(df4.sex, bins=4, alpha=.5, edgecolor='black', color='blue')\n",
    "# ax5.set_ylabel('# respondents',fontsize = 13)\n",
    "# ax5.set_title('Sex', fontsize = 15)\n",
    "\n",
    "ax6 = fig_discrete.add_subplot(313)\n",
    "ax6.hist(df4.native_country, bins=20, alpha=.5, edgecolor='black', color='blue')\n",
    "plt.setp(ax6.xaxis.get_majorticklabels(), rotation=30, horizontalalignment='right')\n",
    "ax6.set_title('Native Country', fontsize = 15)\n",
    "ax6.set_ylim(top=500)\n",
    "\n",
    "plt.show();"
   ]
  },
  {
   "cell_type": "markdown",
   "metadata": {},
   "source": [
    "# Stacked bar plots to show breakdown per feature"
   ]
  },
  {
   "cell_type": "markdown",
   "metadata": {},
   "source": [
    "## Discrete Variables"
   ]
  },
  {
   "cell_type": "markdown",
   "metadata": {},
   "source": [
    "### Race"
   ]
  },
  {
   "cell_type": "code",
   "execution_count": 34,
   "metadata": {},
   "outputs": [
    {
     "name": "stdout",
     "output_type": "stream",
     "text": [
      "Race Class Summary\n",
      "\n",
      "marital_status         0      1\n",
      "race                           \n",
      "Amer-Indian-Eskimo    72    108\n",
      "Asian-Pac-Islander   109    406\n",
      "Black                746    766\n",
      "Other                 50     92\n",
      "White               4535  12650\n"
     ]
    }
   ],
   "source": [
    "print('Race Class Summary\\n')\n",
    "race_summary = df4.groupby(['race', 'marital_status']).race.count().unstack()\n",
    "print(race_summary)"
   ]
  },
  {
   "cell_type": "code",
   "execution_count": 35,
   "metadata": {},
   "outputs": [],
   "source": [
    "# Create a new df with divorce rate by race\n",
    "race_counts = pd.DataFrame(df4.race.value_counts())\n",
    "race_splits = pd.DataFrame(race_summary)\n",
    "race_counts_df = race_counts.merge(race_splits, left_index=True, right_on='race')"
   ]
  },
  {
   "cell_type": "code",
   "execution_count": 36,
   "metadata": {},
   "outputs": [],
   "source": [
    "race_counts_df['total'] = race_counts_df.race "
   ]
  },
  {
   "cell_type": "code",
   "execution_count": 37,
   "metadata": {},
   "outputs": [],
   "source": [
    "race_counts_df.drop('race', inplace=True, axis=1)"
   ]
  },
  {
   "cell_type": "code",
   "execution_count": 38,
   "metadata": {},
   "outputs": [
    {
     "data": {
      "text/html": [
       "<div>\n",
       "<style scoped>\n",
       "    .dataframe tbody tr th:only-of-type {\n",
       "        vertical-align: middle;\n",
       "    }\n",
       "\n",
       "    .dataframe tbody tr th {\n",
       "        vertical-align: top;\n",
       "    }\n",
       "\n",
       "    .dataframe thead th {\n",
       "        text-align: right;\n",
       "    }\n",
       "</style>\n",
       "<table border=\"1\" class=\"dataframe\">\n",
       "  <thead>\n",
       "    <tr style=\"text-align: right;\">\n",
       "      <th></th>\n",
       "      <th>0</th>\n",
       "      <th>1</th>\n",
       "      <th>total</th>\n",
       "    </tr>\n",
       "    <tr>\n",
       "      <th>race</th>\n",
       "      <th></th>\n",
       "      <th></th>\n",
       "      <th></th>\n",
       "    </tr>\n",
       "  </thead>\n",
       "  <tbody>\n",
       "    <tr>\n",
       "      <th>White</th>\n",
       "      <td>4535</td>\n",
       "      <td>12650</td>\n",
       "      <td>17185</td>\n",
       "    </tr>\n",
       "    <tr>\n",
       "      <th>Black</th>\n",
       "      <td>746</td>\n",
       "      <td>766</td>\n",
       "      <td>1512</td>\n",
       "    </tr>\n",
       "    <tr>\n",
       "      <th>Asian-Pac-Islander</th>\n",
       "      <td>109</td>\n",
       "      <td>406</td>\n",
       "      <td>515</td>\n",
       "    </tr>\n",
       "    <tr>\n",
       "      <th>Amer-Indian-Eskimo</th>\n",
       "      <td>72</td>\n",
       "      <td>108</td>\n",
       "      <td>180</td>\n",
       "    </tr>\n",
       "    <tr>\n",
       "      <th>Other</th>\n",
       "      <td>50</td>\n",
       "      <td>92</td>\n",
       "      <td>142</td>\n",
       "    </tr>\n",
       "  </tbody>\n",
       "</table>\n",
       "</div>"
      ],
      "text/plain": [
       "                       0      1  total\n",
       "race                                  \n",
       "White               4535  12650  17185\n",
       "Black                746    766   1512\n",
       "Asian-Pac-Islander   109    406    515\n",
       "Amer-Indian-Eskimo    72    108    180\n",
       "Other                 50     92    142"
      ]
     },
     "execution_count": 38,
     "metadata": {},
     "output_type": "execute_result"
    }
   ],
   "source": [
    "race_counts_df"
   ]
  },
  {
   "cell_type": "code",
   "execution_count": 39,
   "metadata": {},
   "outputs": [],
   "source": [
    "race_counts_df['divorce_rate'] = race_counts_df.loc[:,0]/race_counts_df.loc[:,'total']"
   ]
  },
  {
   "cell_type": "code",
   "execution_count": 40,
   "metadata": {},
   "outputs": [
    {
     "data": {
      "text/html": [
       "<div>\n",
       "<style scoped>\n",
       "    .dataframe tbody tr th:only-of-type {\n",
       "        vertical-align: middle;\n",
       "    }\n",
       "\n",
       "    .dataframe tbody tr th {\n",
       "        vertical-align: top;\n",
       "    }\n",
       "\n",
       "    .dataframe thead th {\n",
       "        text-align: right;\n",
       "    }\n",
       "</style>\n",
       "<table border=\"1\" class=\"dataframe\">\n",
       "  <thead>\n",
       "    <tr style=\"text-align: right;\">\n",
       "      <th></th>\n",
       "      <th>0</th>\n",
       "      <th>1</th>\n",
       "      <th>total</th>\n",
       "      <th>divorce_rate</th>\n",
       "    </tr>\n",
       "    <tr>\n",
       "      <th>race</th>\n",
       "      <th></th>\n",
       "      <th></th>\n",
       "      <th></th>\n",
       "      <th></th>\n",
       "    </tr>\n",
       "  </thead>\n",
       "  <tbody>\n",
       "    <tr>\n",
       "      <th>White</th>\n",
       "      <td>4535</td>\n",
       "      <td>12650</td>\n",
       "      <td>17185</td>\n",
       "      <td>0.263893</td>\n",
       "    </tr>\n",
       "    <tr>\n",
       "      <th>Black</th>\n",
       "      <td>746</td>\n",
       "      <td>766</td>\n",
       "      <td>1512</td>\n",
       "      <td>0.493386</td>\n",
       "    </tr>\n",
       "    <tr>\n",
       "      <th>Asian-Pac-Islander</th>\n",
       "      <td>109</td>\n",
       "      <td>406</td>\n",
       "      <td>515</td>\n",
       "      <td>0.211650</td>\n",
       "    </tr>\n",
       "    <tr>\n",
       "      <th>Amer-Indian-Eskimo</th>\n",
       "      <td>72</td>\n",
       "      <td>108</td>\n",
       "      <td>180</td>\n",
       "      <td>0.400000</td>\n",
       "    </tr>\n",
       "    <tr>\n",
       "      <th>Other</th>\n",
       "      <td>50</td>\n",
       "      <td>92</td>\n",
       "      <td>142</td>\n",
       "      <td>0.352113</td>\n",
       "    </tr>\n",
       "  </tbody>\n",
       "</table>\n",
       "</div>"
      ],
      "text/plain": [
       "                       0      1  total  divorce_rate\n",
       "race                                                \n",
       "White               4535  12650  17185      0.263893\n",
       "Black                746    766   1512      0.493386\n",
       "Asian-Pac-Islander   109    406    515      0.211650\n",
       "Amer-Indian-Eskimo    72    108    180      0.400000\n",
       "Other                 50     92    142      0.352113"
      ]
     },
     "execution_count": 40,
     "metadata": {},
     "output_type": "execute_result"
    }
   ],
   "source": [
    "race_counts_df"
   ]
  },
  {
   "cell_type": "code",
   "execution_count": 41,
   "metadata": {},
   "outputs": [
    {
     "data": {
      "image/png": "[encoded data removed]",
      "text/plain": [
       "<Figure size 576x360 with 1 Axes>"
      ]
     },
     "metadata": {},
     "output_type": "display_data"
    }
   ],
   "source": [
    "# Changed the order of the x-axis to match the earlier visualizations\n",
    "race_order = ['White', 'Black', 'Asian-Pac-Islander', 'Amer-Indian-Eskimo', 'Other']\n",
    "\n",
    "race_married = df4.groupby(['race','marital_status']).race.count().unstack()\n",
    "r1 = race_married.loc[race_order].plot(kind = 'bar', stacked = True, figsize=(8,5),\n",
    "                   title = 'Respondents by Race: Married vs. Divorced', \n",
    "                   color = ['grey','lightgreen'], alpha = .70)\n",
    "\n",
    "r1.set_xlabel('Race')\n",
    "r1.set_ylabel('# respondents')\n",
    "r1.legend(['Divorced','Married'])\n",
    "plt.show()"
   ]
  },
  {
   "cell_type": "markdown",
   "metadata": {},
   "source": [
    "### Native Country"
   ]
  },
  {
   "cell_type": "code",
   "execution_count": 42,
   "metadata": {},
   "outputs": [
    {
     "data": {
      "image/png": "[encoded data removed]",
      "text/plain": [
       "<Figure size 1152x360 with 1 Axes>"
      ]
     },
     "metadata": {},
     "output_type": "display_data"
    }
   ],
   "source": [
    "# Changed the order of the x-axis to match the earlier visualizations\n",
    "country_order = df4.native_country.unique()\n",
    "\n",
    "country_married = df4.groupby(['native_country','marital_status']).native_country.count().unstack()\n",
    "c1 = country_married.loc[country_order].plot(kind = 'bar', stacked = True, figsize=(16,5),\n",
    "                   title = 'Respondents by Native Country: Married vs. Divorced', \n",
    "                   color = ['grey','orange'], alpha = .70)\n",
    "\n",
    "c1.set_xlabel('Country')\n",
    "c1.set_xticklabels(country_order, rotation=45, ha='right')\n",
    "c1.set_ylabel('# respondents')\n",
    "c1.set_ylim(top=150)\n",
    "c1.legend(['Divorced','Married'])\n",
    "plt.show()"
   ]
  },
  {
   "cell_type": "code",
   "execution_count": 43,
   "metadata": {},
   "outputs": [],
   "source": [
    "country_counts = pd.DataFrame(df4.native_country.value_counts())\n",
    "country_splits = pd.DataFrame(country_married)\n",
    "country_counts_df = country_counts.merge(country_splits, left_index=True, right_on='native_country')\n",
    "country_counts_df['total'] = country_counts_df.native_country"
   ]
  },
  {
   "cell_type": "code",
   "execution_count": 44,
   "metadata": {},
   "outputs": [],
   "source": [
    "country_counts_df['divorce_rate'] = country_counts_df.loc[:,0]/country_counts_df.loc[:,'total']"
   ]
  },
  {
   "cell_type": "code",
   "execution_count": 45,
   "metadata": {},
   "outputs": [
    {
     "data": {
      "image/png": "[encoded data removed]",
      "text/plain": [
       "<Figure size 1152x360 with 1 Axes>"
      ]
     },
     "metadata": {},
     "output_type": "display_data"
    }
   ],
   "source": [
    "# Changed the order of the x-axis to match the earlier visualizations\n",
    "country_order = df4.native_country.unique()\n",
    "\n",
    "c2 = country_counts_df['divorce_rate'].loc[country_order].plot(kind = 'bar', figsize=(16,5),\n",
    "                   title = 'Respondents by Native Country: Married vs. Divorced', \n",
    "                   color = ['orange'], alpha = .70)\n",
    "\n",
    "c2.set_xlabel('Country')\n",
    "c2.set_xticklabels(country_order, rotation=45, ha='right')\n",
    "c2.set_ylabel('Divorce Rate')\n",
    "plt.show()"
   ]
  },
  {
   "cell_type": "markdown",
   "metadata": {},
   "source": [
    "Huge spikes in divorce rates likely due to small sample size (Honduras: n=8). \n",
    "\n",
    "Consider:\n",
    "- grouping geographic regions together\n",
    "- grouping prominant religions together"
   ]
  },
  {
   "cell_type": "code",
   "execution_count": 46,
   "metadata": {},
   "outputs": [],
   "source": [
    "country_counts_df.drop('native_country', axis=1, inplace=True)"
   ]
  },
  {
   "cell_type": "code",
   "execution_count": 47,
   "metadata": {},
   "outputs": [
    {
     "data": {
      "text/html": [
       "<div>\n",
       "<style scoped>\n",
       "    .dataframe tbody tr th:only-of-type {\n",
       "        vertical-align: middle;\n",
       "    }\n",
       "\n",
       "    .dataframe tbody tr th {\n",
       "        vertical-align: top;\n",
       "    }\n",
       "\n",
       "    .dataframe thead th {\n",
       "        text-align: right;\n",
       "    }\n",
       "</style>\n",
       "<table border=\"1\" class=\"dataframe\">\n",
       "  <thead>\n",
       "    <tr style=\"text-align: right;\">\n",
       "      <th></th>\n",
       "      <th>0</th>\n",
       "      <th>1</th>\n",
       "      <th>total</th>\n",
       "      <th>divorce_rate</th>\n",
       "    </tr>\n",
       "    <tr>\n",
       "      <th>native_country</th>\n",
       "      <th></th>\n",
       "      <th></th>\n",
       "      <th></th>\n",
       "      <th></th>\n",
       "    </tr>\n",
       "  </thead>\n",
       "  <tbody>\n",
       "    <tr>\n",
       "      <th>El-Salvador</th>\n",
       "      <td>15</td>\n",
       "      <td>36</td>\n",
       "      <td>51</td>\n",
       "      <td>0.294118</td>\n",
       "    </tr>\n",
       "    <tr>\n",
       "      <th>Japan</th>\n",
       "      <td>13</td>\n",
       "      <td>31</td>\n",
       "      <td>44</td>\n",
       "      <td>0.295455</td>\n",
       "    </tr>\n",
       "    <tr>\n",
       "      <th>England</th>\n",
       "      <td>17</td>\n",
       "      <td>39</td>\n",
       "      <td>56</td>\n",
       "      <td>0.303571</td>\n",
       "    </tr>\n",
       "    <tr>\n",
       "      <th>Cuba</th>\n",
       "      <td>23</td>\n",
       "      <td>47</td>\n",
       "      <td>70</td>\n",
       "      <td>0.328571</td>\n",
       "    </tr>\n",
       "    <tr>\n",
       "      <th>Thailand</th>\n",
       "      <td>3</td>\n",
       "      <td>6</td>\n",
       "      <td>9</td>\n",
       "      <td>0.333333</td>\n",
       "    </tr>\n",
       "    <tr>\n",
       "      <th>France</th>\n",
       "      <td>6</td>\n",
       "      <td>12</td>\n",
       "      <td>18</td>\n",
       "      <td>0.333333</td>\n",
       "    </tr>\n",
       "    <tr>\n",
       "      <th>Germany</th>\n",
       "      <td>33</td>\n",
       "      <td>61</td>\n",
       "      <td>94</td>\n",
       "      <td>0.351064</td>\n",
       "    </tr>\n",
       "    <tr>\n",
       "      <th>Scotland</th>\n",
       "      <td>3</td>\n",
       "      <td>5</td>\n",
       "      <td>8</td>\n",
       "      <td>0.375000</td>\n",
       "    </tr>\n",
       "    <tr>\n",
       "      <th>Ireland</th>\n",
       "      <td>5</td>\n",
       "      <td>8</td>\n",
       "      <td>13</td>\n",
       "      <td>0.384615</td>\n",
       "    </tr>\n",
       "    <tr>\n",
       "      <th>Jamaica</th>\n",
       "      <td>17</td>\n",
       "      <td>24</td>\n",
       "      <td>41</td>\n",
       "      <td>0.414634</td>\n",
       "    </tr>\n",
       "    <tr>\n",
       "      <th>Haiti</th>\n",
       "      <td>10</td>\n",
       "      <td>14</td>\n",
       "      <td>24</td>\n",
       "      <td>0.416667</td>\n",
       "    </tr>\n",
       "    <tr>\n",
       "      <th>Puerto-Rico</th>\n",
       "      <td>32</td>\n",
       "      <td>41</td>\n",
       "      <td>73</td>\n",
       "      <td>0.438356</td>\n",
       "    </tr>\n",
       "    <tr>\n",
       "      <th>Peru</th>\n",
       "      <td>8</td>\n",
       "      <td>10</td>\n",
       "      <td>18</td>\n",
       "      <td>0.444444</td>\n",
       "    </tr>\n",
       "    <tr>\n",
       "      <th>Columbia</th>\n",
       "      <td>15</td>\n",
       "      <td>18</td>\n",
       "      <td>33</td>\n",
       "      <td>0.454545</td>\n",
       "    </tr>\n",
       "    <tr>\n",
       "      <th>Guatemala</th>\n",
       "      <td>15</td>\n",
       "      <td>15</td>\n",
       "      <td>30</td>\n",
       "      <td>0.500000</td>\n",
       "    </tr>\n",
       "    <tr>\n",
       "      <th>Outlying-US(Guam-USVI-etc)</th>\n",
       "      <td>3</td>\n",
       "      <td>3</td>\n",
       "      <td>6</td>\n",
       "      <td>0.500000</td>\n",
       "    </tr>\n",
       "    <tr>\n",
       "      <th>Dominican-Republic</th>\n",
       "      <td>21</td>\n",
       "      <td>19</td>\n",
       "      <td>40</td>\n",
       "      <td>0.525000</td>\n",
       "    </tr>\n",
       "    <tr>\n",
       "      <th>Honduras</th>\n",
       "      <td>7</td>\n",
       "      <td>1</td>\n",
       "      <td>8</td>\n",
       "      <td>0.875000</td>\n",
       "    </tr>\n",
       "  </tbody>\n",
       "</table>\n",
       "</div>"
      ],
      "text/plain": [
       "                             0   1  total  divorce_rate\n",
       "native_country                                         \n",
       "El-Salvador                 15  36     51      0.294118\n",
       "Japan                       13  31     44      0.295455\n",
       "England                     17  39     56      0.303571\n",
       "Cuba                        23  47     70      0.328571\n",
       "Thailand                     3   6      9      0.333333\n",
       "France                       6  12     18      0.333333\n",
       "Germany                     33  61     94      0.351064\n",
       "Scotland                     3   5      8      0.375000\n",
       "Ireland                      5   8     13      0.384615\n",
       "Jamaica                     17  24     41      0.414634\n",
       "Haiti                       10  14     24      0.416667\n",
       "Puerto-Rico                 32  41     73      0.438356\n",
       "Peru                         8  10     18      0.444444\n",
       "Columbia                    15  18     33      0.454545\n",
       "Guatemala                   15  15     30      0.500000\n",
       "Outlying-US(Guam-USVI-etc)   3   3      6      0.500000\n",
       "Dominican-Republic          21  19     40      0.525000\n",
       "Honduras                     7   1      8      0.875000"
      ]
     },
     "execution_count": 47,
     "metadata": {},
     "output_type": "execute_result"
    }
   ],
   "source": [
    "# Above average rates of divorce\n",
    "country_counts_df[country_counts_df.divorce_rate >= .29].sort_values('divorce_rate')"
   ]
  },
  {
   "cell_type": "code",
   "execution_count": 48,
   "metadata": {},
   "outputs": [
    {
     "data": {
      "text/html": [
       "<div>\n",
       "<style scoped>\n",
       "    .dataframe tbody tr th:only-of-type {\n",
       "        vertical-align: middle;\n",
       "    }\n",
       "\n",
       "    .dataframe tbody tr th {\n",
       "        vertical-align: top;\n",
       "    }\n",
       "\n",
       "    .dataframe thead th {\n",
       "        text-align: right;\n",
       "    }\n",
       "</style>\n",
       "<table border=\"1\" class=\"dataframe\">\n",
       "  <thead>\n",
       "    <tr style=\"text-align: right;\">\n",
       "      <th></th>\n",
       "      <th>0</th>\n",
       "      <th>1</th>\n",
       "      <th>total</th>\n",
       "      <th>divorce_rate</th>\n",
       "    </tr>\n",
       "    <tr>\n",
       "      <th>native_country</th>\n",
       "      <th></th>\n",
       "      <th></th>\n",
       "      <th></th>\n",
       "      <th></th>\n",
       "    </tr>\n",
       "  </thead>\n",
       "  <tbody>\n",
       "    <tr>\n",
       "      <th>El-Salvador</th>\n",
       "      <td>15</td>\n",
       "      <td>36</td>\n",
       "      <td>51</td>\n",
       "      <td>0.294118</td>\n",
       "    </tr>\n",
       "    <tr>\n",
       "      <th>Japan</th>\n",
       "      <td>13</td>\n",
       "      <td>31</td>\n",
       "      <td>44</td>\n",
       "      <td>0.295455</td>\n",
       "    </tr>\n",
       "    <tr>\n",
       "      <th>England</th>\n",
       "      <td>17</td>\n",
       "      <td>39</td>\n",
       "      <td>56</td>\n",
       "      <td>0.303571</td>\n",
       "    </tr>\n",
       "    <tr>\n",
       "      <th>Cuba</th>\n",
       "      <td>23</td>\n",
       "      <td>47</td>\n",
       "      <td>70</td>\n",
       "      <td>0.328571</td>\n",
       "    </tr>\n",
       "    <tr>\n",
       "      <th>Thailand</th>\n",
       "      <td>3</td>\n",
       "      <td>6</td>\n",
       "      <td>9</td>\n",
       "      <td>0.333333</td>\n",
       "    </tr>\n",
       "    <tr>\n",
       "      <th>France</th>\n",
       "      <td>6</td>\n",
       "      <td>12</td>\n",
       "      <td>18</td>\n",
       "      <td>0.333333</td>\n",
       "    </tr>\n",
       "    <tr>\n",
       "      <th>Germany</th>\n",
       "      <td>33</td>\n",
       "      <td>61</td>\n",
       "      <td>94</td>\n",
       "      <td>0.351064</td>\n",
       "    </tr>\n",
       "    <tr>\n",
       "      <th>Scotland</th>\n",
       "      <td>3</td>\n",
       "      <td>5</td>\n",
       "      <td>8</td>\n",
       "      <td>0.375000</td>\n",
       "    </tr>\n",
       "    <tr>\n",
       "      <th>Ireland</th>\n",
       "      <td>5</td>\n",
       "      <td>8</td>\n",
       "      <td>13</td>\n",
       "      <td>0.384615</td>\n",
       "    </tr>\n",
       "    <tr>\n",
       "      <th>Jamaica</th>\n",
       "      <td>17</td>\n",
       "      <td>24</td>\n",
       "      <td>41</td>\n",
       "      <td>0.414634</td>\n",
       "    </tr>\n",
       "    <tr>\n",
       "      <th>Haiti</th>\n",
       "      <td>10</td>\n",
       "      <td>14</td>\n",
       "      <td>24</td>\n",
       "      <td>0.416667</td>\n",
       "    </tr>\n",
       "    <tr>\n",
       "      <th>Puerto-Rico</th>\n",
       "      <td>32</td>\n",
       "      <td>41</td>\n",
       "      <td>73</td>\n",
       "      <td>0.438356</td>\n",
       "    </tr>\n",
       "    <tr>\n",
       "      <th>Peru</th>\n",
       "      <td>8</td>\n",
       "      <td>10</td>\n",
       "      <td>18</td>\n",
       "      <td>0.444444</td>\n",
       "    </tr>\n",
       "    <tr>\n",
       "      <th>Columbia</th>\n",
       "      <td>15</td>\n",
       "      <td>18</td>\n",
       "      <td>33</td>\n",
       "      <td>0.454545</td>\n",
       "    </tr>\n",
       "    <tr>\n",
       "      <th>Guatemala</th>\n",
       "      <td>15</td>\n",
       "      <td>15</td>\n",
       "      <td>30</td>\n",
       "      <td>0.500000</td>\n",
       "    </tr>\n",
       "    <tr>\n",
       "      <th>Outlying-US(Guam-USVI-etc)</th>\n",
       "      <td>3</td>\n",
       "      <td>3</td>\n",
       "      <td>6</td>\n",
       "      <td>0.500000</td>\n",
       "    </tr>\n",
       "    <tr>\n",
       "      <th>Dominican-Republic</th>\n",
       "      <td>21</td>\n",
       "      <td>19</td>\n",
       "      <td>40</td>\n",
       "      <td>0.525000</td>\n",
       "    </tr>\n",
       "    <tr>\n",
       "      <th>Honduras</th>\n",
       "      <td>7</td>\n",
       "      <td>1</td>\n",
       "      <td>8</td>\n",
       "      <td>0.875000</td>\n",
       "    </tr>\n",
       "  </tbody>\n",
       "</table>\n",
       "</div>"
      ],
      "text/plain": [
       "                             0   1  total  divorce_rate\n",
       "native_country                                         \n",
       "El-Salvador                 15  36     51      0.294118\n",
       "Japan                       13  31     44      0.295455\n",
       "England                     17  39     56      0.303571\n",
       "Cuba                        23  47     70      0.328571\n",
       "Thailand                     3   6      9      0.333333\n",
       "France                       6  12     18      0.333333\n",
       "Germany                     33  61     94      0.351064\n",
       "Scotland                     3   5      8      0.375000\n",
       "Ireland                      5   8     13      0.384615\n",
       "Jamaica                     17  24     41      0.414634\n",
       "Haiti                       10  14     24      0.416667\n",
       "Puerto-Rico                 32  41     73      0.438356\n",
       "Peru                         8  10     18      0.444444\n",
       "Columbia                    15  18     33      0.454545\n",
       "Guatemala                   15  15     30      0.500000\n",
       "Outlying-US(Guam-USVI-etc)   3   3      6      0.500000\n",
       "Dominican-Republic          21  19     40      0.525000\n",
       "Honduras                     7   1      8      0.875000"
      ]
     },
     "execution_count": 48,
     "metadata": {},
     "output_type": "execute_result"
    }
   ],
   "source": [
    "country_counts_df[country_counts_df.divorce_rate >= .29].sort_values('divorce_rate')"
   ]
  },
  {
   "cell_type": "code",
   "execution_count": 51,
   "metadata": {},
   "outputs": [
    {
     "data": {
      "text/html": [
       "<div>\n",
       "<style scoped>\n",
       "    .dataframe tbody tr th:only-of-type {\n",
       "        vertical-align: middle;\n",
       "    }\n",
       "\n",
       "    .dataframe tbody tr th {\n",
       "        vertical-align: top;\n",
       "    }\n",
       "\n",
       "    .dataframe thead th {\n",
       "        text-align: right;\n",
       "    }\n",
       "</style>\n",
       "<table border=\"1\" class=\"dataframe\">\n",
       "  <thead>\n",
       "    <tr style=\"text-align: right;\">\n",
       "      <th></th>\n",
       "      <th>0</th>\n",
       "      <th>1</th>\n",
       "      <th>total</th>\n",
       "      <th>divorce_rate</th>\n",
       "    </tr>\n",
       "    <tr>\n",
       "      <th>native_country</th>\n",
       "      <th></th>\n",
       "      <th></th>\n",
       "      <th></th>\n",
       "      <th></th>\n",
       "    </tr>\n",
       "  </thead>\n",
       "  <tbody>\n",
       "    <tr>\n",
       "      <th>Italy</th>\n",
       "      <td>8</td>\n",
       "      <td>47</td>\n",
       "      <td>55</td>\n",
       "      <td>0.145455</td>\n",
       "    </tr>\n",
       "    <tr>\n",
       "      <th>India</th>\n",
       "      <td>13</td>\n",
       "      <td>64</td>\n",
       "      <td>77</td>\n",
       "      <td>0.168831</td>\n",
       "    </tr>\n",
       "    <tr>\n",
       "      <th>China</th>\n",
       "      <td>12</td>\n",
       "      <td>47</td>\n",
       "      <td>59</td>\n",
       "      <td>0.203390</td>\n",
       "    </tr>\n",
       "    <tr>\n",
       "      <th>Philippines</th>\n",
       "      <td>30</td>\n",
       "      <td>100</td>\n",
       "      <td>130</td>\n",
       "      <td>0.230769</td>\n",
       "    </tr>\n",
       "    <tr>\n",
       "      <th>Mexico</th>\n",
       "      <td>88</td>\n",
       "      <td>293</td>\n",
       "      <td>381</td>\n",
       "      <td>0.230971</td>\n",
       "    </tr>\n",
       "    <tr>\n",
       "      <th>Canada</th>\n",
       "      <td>18</td>\n",
       "      <td>56</td>\n",
       "      <td>74</td>\n",
       "      <td>0.243243</td>\n",
       "    </tr>\n",
       "    <tr>\n",
       "      <th>United-States</th>\n",
       "      <td>5049</td>\n",
       "      <td>12792</td>\n",
       "      <td>17841</td>\n",
       "      <td>0.283000</td>\n",
       "    </tr>\n",
       "    <tr>\n",
       "      <th>El-Salvador</th>\n",
       "      <td>15</td>\n",
       "      <td>36</td>\n",
       "      <td>51</td>\n",
       "      <td>0.294118</td>\n",
       "    </tr>\n",
       "    <tr>\n",
       "      <th>England</th>\n",
       "      <td>17</td>\n",
       "      <td>39</td>\n",
       "      <td>56</td>\n",
       "      <td>0.303571</td>\n",
       "    </tr>\n",
       "    <tr>\n",
       "      <th>Cuba</th>\n",
       "      <td>23</td>\n",
       "      <td>47</td>\n",
       "      <td>70</td>\n",
       "      <td>0.328571</td>\n",
       "    </tr>\n",
       "    <tr>\n",
       "      <th>Germany</th>\n",
       "      <td>33</td>\n",
       "      <td>61</td>\n",
       "      <td>94</td>\n",
       "      <td>0.351064</td>\n",
       "    </tr>\n",
       "    <tr>\n",
       "      <th>Puerto-Rico</th>\n",
       "      <td>32</td>\n",
       "      <td>41</td>\n",
       "      <td>73</td>\n",
       "      <td>0.438356</td>\n",
       "    </tr>\n",
       "  </tbody>\n",
       "</table>\n",
       "</div>"
      ],
      "text/plain": [
       "                   0      1  total  divorce_rate\n",
       "native_country                                  \n",
       "Italy              8     47     55      0.145455\n",
       "India             13     64     77      0.168831\n",
       "China             12     47     59      0.203390\n",
       "Philippines       30    100    130      0.230769\n",
       "Mexico            88    293    381      0.230971\n",
       "Canada            18     56     74      0.243243\n",
       "United-States   5049  12792  17841      0.283000\n",
       "El-Salvador       15     36     51      0.294118\n",
       "England           17     39     56      0.303571\n",
       "Cuba              23     47     70      0.328571\n",
       "Germany           33     61     94      0.351064\n",
       "Puerto-Rico       32     41     73      0.438356"
      ]
     },
     "execution_count": 51,
     "metadata": {},
     "output_type": "execute_result"
    }
   ],
   "source": [
    "# Respondents from El Salvador, England, Cuba, Germany, Puerto-Rico \n",
    "# all have above average rate of divorce with more than 50 respondents\n",
    "country_counts_df[country_counts_df.total > 50].sort_values('divorce_rate')"
   ]
  },
  {
   "cell_type": "code",
   "execution_count": 50,
   "metadata": {},
   "outputs": [],
   "source": [
    "latin_american = ['Cuba', 'Mexico', 'Honduras', 'Puerto-Rico', 'Ecuador',\n",
    "                  'El-Salvador', 'Guatemala', 'Peru', 'Nicaragua',\n",
    "                  'Dominican-Republic', 'Haiti', 'Columbia']"
   ]
  },
  {
   "cell_type": "code",
   "execution_count": 56,
   "metadata": {},
   "outputs": [
    {
     "data": {
      "text/html": [
       "<div>\n",
       "<style scoped>\n",
       "    .dataframe tbody tr th:only-of-type {\n",
       "        vertical-align: middle;\n",
       "    }\n",
       "\n",
       "    .dataframe tbody tr th {\n",
       "        vertical-align: top;\n",
       "    }\n",
       "\n",
       "    .dataframe thead th {\n",
       "        text-align: right;\n",
       "    }\n",
       "</style>\n",
       "<table border=\"1\" class=\"dataframe\">\n",
       "  <thead>\n",
       "    <tr style=\"text-align: right;\">\n",
       "      <th></th>\n",
       "      <th>age</th>\n",
       "      <th>workclass</th>\n",
       "      <th>education</th>\n",
       "      <th>education_num</th>\n",
       "      <th>marital_status</th>\n",
       "      <th>occupation</th>\n",
       "      <th>race</th>\n",
       "      <th>sex</th>\n",
       "      <th>capital_gain</th>\n",
       "      <th>capital_loss</th>\n",
       "      <th>hours_per_week</th>\n",
       "      <th>native_country</th>\n",
       "      <th>income</th>\n",
       "    </tr>\n",
       "  </thead>\n",
       "  <tbody>\n",
       "    <tr>\n",
       "      <th>1</th>\n",
       "      <td>50</td>\n",
       "      <td>Self-emp-not-inc</td>\n",
       "      <td>Bachelors</td>\n",
       "      <td>13</td>\n",
       "      <td>1</td>\n",
       "      <td>Exec-managerial</td>\n",
       "      <td>White</td>\n",
       "      <td>Male</td>\n",
       "      <td>0</td>\n",
       "      <td>0</td>\n",
       "      <td>13</td>\n",
       "      <td>United-States</td>\n",
       "      <td>&lt;=85k</td>\n",
       "    </tr>\n",
       "    <tr>\n",
       "      <th>2</th>\n",
       "      <td>38</td>\n",
       "      <td>Private</td>\n",
       "      <td>HS-grad</td>\n",
       "      <td>9</td>\n",
       "      <td>0</td>\n",
       "      <td>Handlers-cleaners</td>\n",
       "      <td>White</td>\n",
       "      <td>Male</td>\n",
       "      <td>0</td>\n",
       "      <td>0</td>\n",
       "      <td>40</td>\n",
       "      <td>United-States</td>\n",
       "      <td>&lt;=85k</td>\n",
       "    </tr>\n",
       "    <tr>\n",
       "      <th>3</th>\n",
       "      <td>53</td>\n",
       "      <td>Private</td>\n",
       "      <td>11th</td>\n",
       "      <td>7</td>\n",
       "      <td>1</td>\n",
       "      <td>Handlers-cleaners</td>\n",
       "      <td>Black</td>\n",
       "      <td>Male</td>\n",
       "      <td>0</td>\n",
       "      <td>0</td>\n",
       "      <td>40</td>\n",
       "      <td>United-States</td>\n",
       "      <td>&lt;=85k</td>\n",
       "    </tr>\n",
       "    <tr>\n",
       "      <th>4</th>\n",
       "      <td>28</td>\n",
       "      <td>Private</td>\n",
       "      <td>Bachelors</td>\n",
       "      <td>13</td>\n",
       "      <td>1</td>\n",
       "      <td>Prof-specialty</td>\n",
       "      <td>Black</td>\n",
       "      <td>Female</td>\n",
       "      <td>0</td>\n",
       "      <td>0</td>\n",
       "      <td>40</td>\n",
       "      <td>Latin-America</td>\n",
       "      <td>&lt;=85k</td>\n",
       "    </tr>\n",
       "    <tr>\n",
       "      <th>5</th>\n",
       "      <td>37</td>\n",
       "      <td>Private</td>\n",
       "      <td>Masters</td>\n",
       "      <td>14</td>\n",
       "      <td>1</td>\n",
       "      <td>Exec-managerial</td>\n",
       "      <td>White</td>\n",
       "      <td>Female</td>\n",
       "      <td>0</td>\n",
       "      <td>0</td>\n",
       "      <td>40</td>\n",
       "      <td>United-States</td>\n",
       "      <td>&lt;=85k</td>\n",
       "    </tr>\n",
       "  </tbody>\n",
       "</table>\n",
       "</div>"
      ],
      "text/plain": [
       "   age         workclass  education  education_num  marital_status  \\\n",
       "1   50  Self-emp-not-inc  Bachelors             13               1   \n",
       "2   38           Private    HS-grad              9               0   \n",
       "3   53           Private       11th              7               1   \n",
       "4   28           Private  Bachelors             13               1   \n",
       "5   37           Private    Masters             14               1   \n",
       "\n",
       "          occupation   race     sex  capital_gain  capital_loss  \\\n",
       "1    Exec-managerial  White    Male             0             0   \n",
       "2  Handlers-cleaners  White    Male             0             0   \n",
       "3  Handlers-cleaners  Black    Male             0             0   \n",
       "4     Prof-specialty  Black  Female             0             0   \n",
       "5    Exec-managerial  White  Female             0             0   \n",
       "\n",
       "   hours_per_week native_country income  \n",
       "1              13  United-States  <=85k  \n",
       "2              40  United-States  <=85k  \n",
       "3              40  United-States  <=85k  \n",
       "4              40  Latin-America  <=85k  \n",
       "5              40  United-States  <=85k  "
      ]
     },
     "execution_count": 56,
     "metadata": {},
     "output_type": "execute_result"
    }
   ],
   "source": [
    "df5 = df4.replace(latin_american, 'Latin-America')\n",
    "df5.head()"
   ]
  },
  {
   "cell_type": "code",
   "execution_count": 64,
   "metadata": {},
   "outputs": [],
   "source": [
    "country_married2 = df5.groupby(['native_country','marital_status']).native_country.count().unstack()\n",
    "country_counts2 = pd.DataFrame(df5.native_country.value_counts())\n",
    "country_splits2 = pd.DataFrame(country_married2)\n",
    "country_counts_df2 = country_counts2.merge(country_splits2, left_index=True, right_on='native_country')"
   ]
  },
  {
   "cell_type": "code",
   "execution_count": 66,
   "metadata": {},
   "outputs": [],
   "source": [
    "country_counts_df2['total'] = country_counts_df2.native_country"
   ]
  },
  {
   "cell_type": "code",
   "execution_count": 68,
   "metadata": {},
   "outputs": [],
   "source": [
    "country_counts_df2.drop('native_country', axis=1, inplace=True)"
   ]
  },
  {
   "cell_type": "code",
   "execution_count": 70,
   "metadata": {},
   "outputs": [],
   "source": [
    "country_counts_df2['divorce_rate'] = country_counts_df2.loc[:,0]/country_counts_df2.loc[:,'total']"
   ]
  },
  {
   "cell_type": "code",
   "execution_count": 71,
   "metadata": {},
   "outputs": [
    {
     "data": {
      "image/png": "[encoded data removed]",
      "text/plain": [
       "<Figure size 1152x360 with 1 Axes>"
      ]
     },
     "metadata": {},
     "output_type": "display_data"
    }
   ],
   "source": [
    "# Changed the order of the x-axis to match the earlier visualizations\n",
    "country_order2 = df5.native_country.unique()\n",
    "\n",
    "c3 = country_counts_df2['divorce_rate'].loc[country_order2].plot(kind = 'bar', figsize=(16,5),\n",
    "                   title = 'Respondents by Native Country: Married vs. Divorced', \n",
    "                   color = ['orange'], alpha = .70)\n",
    "\n",
    "c3.set_xlabel('Country')\n",
    "c3.set_xticklabels(country_order2, rotation=45, ha='right')\n",
    "c3.set_ylabel('Divorce Rate')\n",
    "plt.show()"
   ]
  },
  {
   "cell_type": "markdown",
   "metadata": {},
   "source": [
    "### Education"
   ]
  },
  {
   "cell_type": "markdown",
   "metadata": {},
   "source": [
    "#### Group 'HS-grad' and less together"
   ]
  },
  {
   "cell_type": "code",
   "execution_count": null,
   "metadata": {},
   "outputs": [],
   "source": [
    "educ_map = {i:9 for i in range(1,9)}"
   ]
  },
  {
   "cell_type": "code",
   "execution_count": null,
   "metadata": {},
   "outputs": [],
   "source": [
    "df4.replace({'education_num': educ_map}, inplace=True)"
   ]
  },
  {
   "cell_type": "code",
   "execution_count": null,
   "metadata": {},
   "outputs": [],
   "source": [
    "df4.education_num.value_counts()"
   ]
  },
  {
   "cell_type": "code",
   "execution_count": null,
   "metadata": {},
   "outputs": [],
   "source": [
    "# Changed the order of the x-axis to match the earlier visualizations\n",
    "educ_order = ['HS-grad', 'Some-college', 'Assoc-voc', 'Assoc-acdm', 'Bachelors', 'Masters', 'Prof-school', 'Doctorate']\n",
    "\n",
    "educ_married = df4.groupby(['education_num','marital_status']).education_num.count().unstack()\n",
    "e1 = educ_married.plot(kind = 'bar', stacked = True, figsize=(16,5),\n",
    "                   title = 'Respondents by Education Level: Married vs. Divorced', \n",
    "                   color = ['grey','tomato'], alpha = .70)\n",
    "\n",
    "e1.set_xlabel('Highest Level of Education Completed')\n",
    "e1.set_xticklabels(educ_order, rotation=30, ha='right')\n",
    "e1.set_ylabel('# respondents')\n",
    "e1.legend(['Divorced','Married'])\n",
    "plt.show()"
   ]
  },
  {
   "cell_type": "code",
   "execution_count": null,
   "metadata": {},
   "outputs": [],
   "source": [
    "educ_counts = pd.DataFrame(df4.education_num.value_counts())\n",
    "educ_splits = pd.DataFrame(educ_married)\n",
    "educ_counts_df = educ_counts.merge(educ_splits, left_index=True, right_on='education_num')\n",
    "educ_counts_df['total'] = educ_counts_df.education_num"
   ]
  },
  {
   "cell_type": "code",
   "execution_count": null,
   "metadata": {},
   "outputs": [],
   "source": [
    "educ_counts_df.drop('education_num', axis=1, inplace=True)"
   ]
  },
  {
   "cell_type": "code",
   "execution_count": null,
   "metadata": {},
   "outputs": [],
   "source": [
    "educ_counts_df['divorce_rate'] = educ_counts_df.loc[:,0]/educ_counts_df.loc[:,'total']"
   ]
  },
  {
   "cell_type": "code",
   "execution_count": null,
   "metadata": {},
   "outputs": [],
   "source": [
    "educ_counts_df"
   ]
  },
  {
   "cell_type": "markdown",
   "metadata": {},
   "source": [
    "FREAKONOMICS stat from 'How to Live Longer' (Jan 09, 2012)"
   ]
  },
  {
   "cell_type": "code",
   "execution_count": null,
   "metadata": {},
   "outputs": [],
   "source": [
    "e2 = educ_counts_df['divorce_rate'].plot(kind = 'bar', figsize=(16,5),\n",
    "                   title = 'Respondents by Education: Married vs. Divorced', \n",
    "                   color = ['tomato'], alpha = .70)\n",
    "\n",
    "e2.set_xlabel('Highest Level of Education Completed')\n",
    "e2.set_xticklabels(education_range, rotation=45, ha='right')\n",
    "e2.set_ylabel('Divorce Rate')\n",
    "plt.show()"
   ]
  },
  {
   "cell_type": "markdown",
   "metadata": {},
   "source": [
    "## Continuous Variables"
   ]
  },
  {
   "cell_type": "markdown",
   "metadata": {},
   "source": [
    "### Age and Hours worked per week (continuous variables)"
   ]
  },
  {
   "cell_type": "code",
   "execution_count": null,
   "metadata": {
    "scrolled": true
   },
   "outputs": [],
   "source": [
    "# people are working more than 40 hours per week\n",
    "# 99 hours/week is probably a code in the data dictionary\n",
    "df4.boxplot(['age', 'hours_per_week'], showfliers=False);\n"
   ]
  },
  {
   "cell_type": "markdown",
   "metadata": {},
   "source": [
    "### Capital Gains"
   ]
  },
  {
   "cell_type": "code",
   "execution_count": null,
   "metadata": {},
   "outputs": [],
   "source": [
    "fig_capital = plt.figure(figsize=(14,6))\n",
    "\n",
    "ax1 = fig_capital.add_subplot(121)\n",
    "ax1 = df4[df4.capital_gain > 0].boxplot('capital_gain', showfliers=False)\n",
    "ax1.set_title('ONLY POSITIVE\\nCapital Gains')\n",
    "print('Subset of {} out of {} total observations,\\nwho have positive investment income.'.format(df4[df4.capital_gain > 0].count()[0], len(df)))\n",
    "\n",
    "ax2 = fig_capital.add_subplot(122, sharey=ax1)\n",
    "ax2 = df4.boxplot('capital_gain', showfliers=False)\n",
    "ax2.set_title('Capital Gains\\nof all Respondents');"
   ]
  },
  {
   "cell_type": "markdown",
   "metadata": {},
   "source": [
    "### Capital Loss"
   ]
  },
  {
   "cell_type": "code",
   "execution_count": null,
   "metadata": {
    "scrolled": true
   },
   "outputs": [],
   "source": [
    "fig_capital_loss = plt.figure(figsize=(14,6))\n",
    "\n",
    "ax1 = fig_capital_loss.add_subplot(121)\n",
    "ax1 = df4[df4.capital_loss > 0].boxplot('capital_loss', showfliers=False)\n",
    "ax1.set_title('ONLY POSITIVE\\nCapital Loss')\n",
    "print('Subset of {} out of {} total observations,\\nwho have lost money on investments.'.format(df4[df4.capital_loss > 0].count()[0], len(df)))\n",
    "\n",
    "ax2 = fig_capital_loss.add_subplot(122, sharey=ax1)\n",
    "ax2 = df4.boxplot('capital_loss', showfliers=False)\n",
    "ax2.set_title('Capital Loss\\nof all Respondents');"
   ]
  }
 ],
 "metadata": {
  "kernelspec": {
   "display_name": "Python 3",
   "language": "python",
   "name": "python3"
  },
  "language_info": {
   "codemirror_mode": {
    "name": "ipython",
    "version": 3
   },
   "file_extension": ".py",
   "mimetype": "text/x-python",
   "name": "python",
   "nbconvert_exporter": "python",
   "pygments_lexer": "ipython3",
   "version": "3.7.6"
  }
 },
 "nbformat": 4,
 "nbformat_minor": 4
}
