{
 "cells": [
  {
   "cell_type": "markdown",
   "metadata": {},
   "source": [
    "# Input Tests"
   ]
  },
  {
   "cell_type": "code",
   "execution_count": 34,
   "metadata": {},
   "outputs": [],
   "source": [
    "import pandas as pd\n",
    "import numpy as np\n",
    "\n",
    "from sklearn.model_selection import train_test_split\n",
    "from xgboost.sklearn import XGBClassifier\n",
    "from sklearn.metrics import accuracy_score, precision_score, recall_score, f1_score, roc_curve"
   ]
  },
  {
   "cell_type": "code",
   "execution_count": 38,
   "metadata": {},
   "outputs": [],
   "source": [
    "df = pd.read_csv('marriage_eng.csv', index_col=0)"
   ]
  },
  {
   "cell_type": "markdown",
   "metadata": {},
   "source": [
    "### Feature/Class data split"
   ]
  },
  {
   "cell_type": "code",
   "execution_count": 41,
   "metadata": {},
   "outputs": [
    {
     "data": {
      "text/plain": [
       "Index(['age', 'education', 'education_num', 'marital_status', 'occupation',\n",
       "       'race', 'sex', 'capital_gain', 'capital_loss', 'hours_per_week',\n",
       "       'native_country', 'income'],\n",
       "      dtype='object')"
      ]
     },
     "execution_count": 41,
     "metadata": {},
     "output_type": "execute_result"
    }
   ],
   "source": [
    "df.columns"
   ]
  },
  {
   "cell_type": "code",
   "execution_count": 43,
   "metadata": {},
   "outputs": [],
   "source": [
    "X = df.loc[:, ['age', 'education', 'occupation', 'race', 'sex', 'capital_gain', 'capital_loss',\n",
    "                'hours_per_week', 'native_country', 'income']]\n",
    "y = df.loc[:, 'marital_status']"
   ]
  },
  {
   "cell_type": "markdown",
   "metadata": {},
   "source": [
    "### Dummy Variables for discrete variable features"
   ]
  },
  {
   "cell_type": "code",
   "execution_count": 67,
   "metadata": {},
   "outputs": [],
   "source": [
    "df_dummies = pd.get_dummies(X, drop_first=False)"
   ]
  },
  {
   "cell_type": "code",
   "execution_count": 68,
   "metadata": {},
   "outputs": [],
   "source": [
    "df_dummies['education_inc_HS'] = df_dummies['education_<HS']\n",
    "df_dummies['income_high'] = df_dummies['income_>85k']\n",
    "df_dummies['income_low'] = df_dummies['income_<=85k']\n"
   ]
  },
  {
   "cell_type": "code",
   "execution_count": 69,
   "metadata": {},
   "outputs": [],
   "source": [
    "# Removed < and > from feature names which seems to give XGBoost some problems\n",
    "df_dummies.drop(['education_<HS', 'income_>85k', 'income_<=85k'], axis=1, inplace=True)"
   ]
  },
  {
   "cell_type": "markdown",
   "metadata": {},
   "source": [
    "### Train/Test split"
   ]
  },
  {
   "cell_type": "code",
   "execution_count": 70,
   "metadata": {},
   "outputs": [],
   "source": [
    "X_train, X_test, y_train, y_test = train_test_split(df_dummies, y,\n",
    "                                                    test_size=.3,\n",
    "                                                    random_state=42)"
   ]
  },
  {
   "cell_type": "markdown",
   "metadata": {},
   "source": [
    "### Model fit and predictions"
   ]
  },
  {
   "cell_type": "code",
   "execution_count": 71,
   "metadata": {},
   "outputs": [],
   "source": [
    "xgb = XGBClassifier()\n",
    "xgb.fit(X_train, y_train)\n",
    "\n",
    "train_preds = xgb.predict(X_train)\n",
    "test_preds = xgb.predict(X_test)"
   ]
  },
  {
   "cell_type": "markdown",
   "metadata": {},
   "source": [
    "### Training Performance"
   ]
  },
  {
   "cell_type": "code",
   "execution_count": 72,
   "metadata": {},
   "outputs": [
    {
     "name": "stdout",
     "output_type": "stream",
     "text": [
      "       F1: 0.90\n",
      "Precision: 0.85\n",
      "   Recall: 0.95\n",
      " Accuracy: 0.85\n"
     ]
    }
   ],
   "source": [
    "print(f'       F1: {f1_score(y_train, train_preds):.2f}')\n",
    "print(f'Precision: {precision_score(y_train, train_preds):.2f}')\n",
    "print(f'   Recall: {recall_score(y_train, train_preds):.2f}')\n",
    "print(f' Accuracy: {accuracy_score(y_train, train_preds):.2f}')\n"
   ]
  },
  {
   "cell_type": "markdown",
   "metadata": {},
   "source": [
    "### Testing Performance"
   ]
  },
  {
   "cell_type": "code",
   "execution_count": 73,
   "metadata": {},
   "outputs": [
    {
     "name": "stdout",
     "output_type": "stream",
     "text": [
      "       F1: 0.89\n",
      "Precision: 0.85\n",
      "   Recall: 0.94\n",
      " Accuracy: 0.84\n"
     ]
    }
   ],
   "source": [
    "print(f'       F1: {f1_score(y_test, test_preds):.2f}')\n",
    "print(f'Precision: {precision_score(y_test, test_preds):.2f}')\n",
    "print(f'   Recall: {recall_score(y_test, test_preds):.2f}')\n",
    "print(f' Accuracy: {accuracy_score(y_test, test_preds):.2f}')\n"
   ]
  },
  {
   "cell_type": "markdown",
   "metadata": {},
   "source": [
    "# Frontend User input"
   ]
  },
  {
   "cell_type": "markdown",
   "metadata": {},
   "source": [
    "Create an empty df with same columns as our training data"
   ]
  },
  {
   "cell_type": "code",
   "execution_count": 74,
   "metadata": {},
   "outputs": [],
   "source": [
    "zero_data = np.zeros(shape=(1, len(X_train.columns)))\n",
    "X_test1 = pd.DataFrame(data=zero_data, columns=X_train.columns)"
   ]
  },
  {
   "cell_type": "markdown",
   "metadata": {},
   "source": [
    "Create a dictionary for user data (to be input by anyone)"
   ]
  },
  {
   "cell_type": "code",
   "execution_count": 76,
   "metadata": {},
   "outputs": [],
   "source": [
    "response_dict = {\n",
    "    'age': 0,\n",
    "    \n",
    "    'income_high': 0,\n",
    "    'income_low': 0\n",
    "    \n",
    "    'capital_gain': 0,\n",
    "    'capital_loss': 0,\n",
    "    \n",
    "    'hours_per_week': 0,\n",
    "    \n",
    "    'education_Assoc-acdm': 0,\n",
    "    'education_Assoc-voc': 0,\n",
    "    'education_Bachelors': 0,\n",
    "    'education_Doctorate': 0,\n",
    "    'education_HS-grad': 0,\n",
    "    'education_Masters': 0,\n",
    "    'education_Prof-school': 0,\n",
    "    'education_Some-college': 0,\n",
    "    'education_inc_HS': 0,\n",
    "    \n",
    "    'occupation_Blue': 0,\n",
    "    'occupation_White': 0,\n",
    "    \n",
    "    'race_Amer-Indian-Eskimo': 0,\n",
    "    'race_Asian-Pac-Islander': 0,\n",
    "    'race_Black': 0,\n",
    "    'race_Other': 0,\n",
    "    'race_White': 0,\n",
    "    \n",
    "    'sex_Female': 0,\n",
    "    'sex_Male': 0,\n",
    "    \n",
    "    'native_country_Canada': 0,\n",
    "    'native_country_China': 0,\n",
    "    'native_country_England': 0,\n",
    "    'native_country_France': 0,\n",
    "    'native_country_Germany': 0,\n",
    "    'native_country_Greece': 0,\n",
    "    'native_country_Hungary': 0,\n",
    "    'native_country_India': 0,\n",
    "    'native_country_Iran': 0,\n",
    "    'native_country_Ireland': 0,\n",
    "    'native_country_Italy': 0,\n",
    "    'native_country_Jamaica': 0,\n",
    "    'native_country_Japan': 0,\n",
    "    'native_country_Latin-America': 0,\n",
    "    'native_country_Outlying-US(Guam-USVI-etc)': 0,\n",
    "    'native_country_Poland': 0,\n",
    "    'native_country_Portugal': 0,\n",
    "    'native_country_SE-Asia': 0,\n",
    "    'native_country_Scotland': 0,\n",
    "    'native_country_Trinadad&Tobago': 0,\n",
    "    'native_country_United-States': 0,\n",
    "    'native_country_Yugoslavia': 0,\n",
    "}"
   ]
  },
  {
   "cell_type": "markdown",
   "metadata": {},
   "source": [
    "Reference dictionary to fill in columns with data, otherwise zero (for dummy variables)"
   ]
  },
  {
   "cell_type": "code",
   "execution_count": 77,
   "metadata": {},
   "outputs": [],
   "source": [
    "for col in X_train.columns:\n",
    "    X_test1[col] = response_dict.get(col, 0)"
   ]
  },
  {
   "cell_type": "markdown",
   "metadata": {},
   "source": [
    "Print out results"
   ]
  },
  {
   "cell_type": "code",
   "execution_count": 78,
   "metadata": {},
   "outputs": [],
   "source": [
    "user_prediction = xgb.predict(X_test1)"
   ]
  },
  {
   "cell_type": "code",
   "execution_count": 79,
   "metadata": {},
   "outputs": [
    {
     "name": "stdout",
     "output_type": "stream",
     "text": [
      "Based on these criteria, your marriage is likely to continue successfully for many years.\n",
      "\n",
      "\n",
      "       F1: 0.89\n",
      "Precision: 0.85\n",
      "   Recall: 0.94\n",
      " Accuracy: 0.84\n"
     ]
    }
   ],
   "source": [
    "if user_prediction:\n",
    "    print('Based on these criteria, your marriage is likely to continue successfully for many years.')\n",
    "elif user_prediction == 0:\n",
    "    print('Based on these criteria, your marriage may experience extreme stress which could lead to divorce.')\n",
    "else:\n",
    "    print('More information is needed for this model work properly.')\n",
    "    \n",
    "print('\\n')\n",
    "print(f'       F1: {f1_score(y_test, test_preds):.2f}')\n",
    "print(f'Precision: {precision_score(y_test, test_preds):.2f}')\n",
    "print(f'   Recall: {recall_score(y_test, test_preds):.2f}')\n",
    "print(f' Accuracy: {accuracy_score(y_test, test_preds):.2f}')\n"
   ]
  }
 ],
 "metadata": {
  "kernelspec": {
   "display_name": "Python 3",
   "language": "python",
   "name": "python3"
  },
  "language_info": {
   "codemirror_mode": {
    "name": "ipython",
    "version": 3
   },
   "file_extension": ".py",
   "mimetype": "text/x-python",
   "name": "python",
   "nbconvert_exporter": "python",
   "pygments_lexer": "ipython3",
   "version": "3.7.6"
  }
 },
 "nbformat": 4,
 "nbformat_minor": 4
}
