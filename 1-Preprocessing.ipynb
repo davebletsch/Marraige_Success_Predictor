{
 "cells": [
  {
   "cell_type": "markdown",
   "metadata": {},
   "source": [
    "# Preprocessing"
   ]
  },
  {
   "cell_type": "code",
   "execution_count": 9,
   "metadata": {},
   "outputs": [],
   "source": [
    "import pandas as pd"
   ]
  },
  {
   "cell_type": "code",
   "execution_count": 10,
   "metadata": {},
   "outputs": [],
   "source": [
    "df = pd.read_csv('adult.data', header=None)"
   ]
  },
  {
   "cell_type": "code",
   "execution_count": 11,
   "metadata": {},
   "outputs": [
    {
     "data": {
      "text/plain": [
       "(32561, 15)"
      ]
     },
     "execution_count": 11,
     "metadata": {},
     "output_type": "execute_result"
    }
   ],
   "source": [
    "# Initial data stats\n",
    "df.shape"
   ]
  },
  {
   "cell_type": "markdown",
   "metadata": {},
   "source": [
    "## 1. Data Cleaning"
   ]
  },
  {
   "cell_type": "code",
   "execution_count": 13,
   "metadata": {},
   "outputs": [],
   "source": [
    "# rename columns\n",
    "columns = ['age', 'workclass', 'final_weight', 'education', 'education_num',\n",
    "           'marital_status', 'occupation', 'relationship', 'race',\n",
    "           'sex', 'capital_gain', 'capital_loss', 'hours_per_week',\n",
    "           'native_country', 'income']\n",
    "df.columns=columns"
   ]
  },
  {
   "cell_type": "code",
   "execution_count": 14,
   "metadata": {},
   "outputs": [],
   "source": [
    "# Continuous vs. Discrete independent variables\n",
    "columns_cont = ['age', 'capital_gain', 'capital_loss', 'hours_per_week']\n",
    "columns_dis = ['workclass', 'education_num', 'occupation',\n",
    "               'race', 'sex', 'native_country']"
   ]
  },
  {
   "cell_type": "code",
   "execution_count": 15,
   "metadata": {},
   "outputs": [],
   "source": [
    "# Remove leading white space in some columns\n",
    "to_strip = ['workclass', 'education', 'marital_status', 'occupation',\n",
    "            'race', 'sex', 'native_country', 'income']\n",
    "\n",
    "df[to_strip] = df[to_strip].apply(lambda x: x.str.strip())"
   ]
  },
  {
   "cell_type": "markdown",
   "metadata": {},
   "source": [
    "### Drop duplicates"
   ]
  },
  {
   "cell_type": "code",
   "execution_count": 16,
   "metadata": {},
   "outputs": [],
   "source": [
    "# drop 24 duplicate rows\n",
    "df.drop_duplicates(keep='first', inplace=True)"
   ]
  },
  {
   "cell_type": "code",
   "execution_count": 17,
   "metadata": {},
   "outputs": [
    {
     "data": {
      "text/plain": [
       "(32537, 15)"
      ]
     },
     "execution_count": 17,
     "metadata": {},
     "output_type": "execute_result"
    }
   ],
   "source": [
    "df.shape"
   ]
  },
  {
   "cell_type": "markdown",
   "metadata": {},
   "source": [
    "### Drop ambiguous data values"
   ]
  },
  {
   "cell_type": "code",
   "execution_count": 18,
   "metadata": {},
   "outputs": [],
   "source": [
    "# To Drop - uncertain value\n",
    "uncertain_marital = ['Never-married', 'Widowed', 'Married-AF-spouse']\n",
    "uncertain_country = ['?', 'South']\n",
    "uncertain_occupation = ['?']"
   ]
  },
  {
   "cell_type": "code",
   "execution_count": 19,
   "metadata": {},
   "outputs": [],
   "source": [
    "# Drop rows where marital_status is not relevant (11,699 rows)\n",
    "df = df[~df.marital_status.isin(uncertain_marital)]"
   ]
  },
  {
   "cell_type": "code",
   "execution_count": 20,
   "metadata": {},
   "outputs": [],
   "source": [
    "# Drop rows where native_country is not relevant (423 rows)\n",
    "df = df[~df.native_country.isin(uncertain_country)]"
   ]
  },
  {
   "cell_type": "code",
   "execution_count": 21,
   "metadata": {},
   "outputs": [],
   "source": [
    "# Drop rows where occupation is not relevant (897 rows)\n",
    "df = df[~df.occupation.isin(uncertain_occupation)]"
   ]
  },
  {
   "cell_type": "markdown",
   "metadata": {},
   "source": [
    "### Drop irrelevant data features"
   ]
  },
  {
   "cell_type": "code",
   "execution_count": 23,
   "metadata": {},
   "outputs": [],
   "source": [
    "# Remove 2 columns from original dataset that are not used\n",
    "df.drop(['final_weight', 'relationship'], axis=1, inplace=True)"
   ]
  },
  {
   "cell_type": "markdown",
   "metadata": {},
   "source": [
    "## 2. Data regrouping/relabeling"
   ]
  },
  {
   "cell_type": "markdown",
   "metadata": {},
   "source": [
    "### Income"
   ]
  },
  {
   "cell_type": "code",
   "execution_count": 24,
   "metadata": {},
   "outputs": [],
   "source": [
    "# Relabel income column to adjust for inflation\n",
    "df.replace({'<=50K': '<=85k', '>50K':'>85k'}, inplace=True)"
   ]
  },
  {
   "cell_type": "code",
   "execution_count": 25,
   "metadata": {},
   "outputs": [
    {
     "data": {
      "text/plain": [
       "<=85k    12602\n",
       ">85k      6932\n",
       "Name: income, dtype: int64"
      ]
     },
     "execution_count": 25,
     "metadata": {},
     "output_type": "execute_result"
    }
   ],
   "source": [
    "df.income.value_counts()"
   ]
  },
  {
   "cell_type": "markdown",
   "metadata": {},
   "source": [
    "### Education"
   ]
  },
  {
   "cell_type": "code",
   "execution_count": 26,
   "metadata": {},
   "outputs": [
    {
     "data": {
      "text/plain": [
       "HS-grad         6574\n",
       "Some-college    3972\n",
       "Bachelors       3240\n",
       "Masters         1204\n",
       "Assoc-voc        934\n",
       "Assoc-acdm       678\n",
       "11th             504\n",
       "10th             487\n",
       "Prof-school      448\n",
       "7th-8th          408\n",
       "Doctorate        301\n",
       "9th              301\n",
       "5th-6th          198\n",
       "12th             166\n",
       "1st-4th           98\n",
       "Preschool         21\n",
       "Name: education, dtype: int64"
      ]
     },
     "execution_count": 26,
     "metadata": {},
     "output_type": "execute_result"
    }
   ],
   "source": [
    "# Check if \"education\" and \"education_num\" are the same\n",
    "df.education.value_counts()"
   ]
  },
  {
   "cell_type": "code",
   "execution_count": 23,
   "metadata": {},
   "outputs": [
    {
     "data": {
      "text/plain": [
       "9     6574\n",
       "10    3972\n",
       "13    3240\n",
       "14    1204\n",
       "11     934\n",
       "12     678\n",
       "7      504\n",
       "6      487\n",
       "15     448\n",
       "4      408\n",
       "5      301\n",
       "16     301\n",
       "3      198\n",
       "8      166\n",
       "2       98\n",
       "1       21\n",
       "Name: education_num, dtype: int64"
      ]
     },
     "execution_count": 23,
     "metadata": {},
     "output_type": "execute_result"
    }
   ],
   "source": [
    "df.education_num.value_counts()"
   ]
  },
  {
   "cell_type": "code",
   "execution_count": 28,
   "metadata": {},
   "outputs": [],
   "source": [
    "# Group together all who did not graduate high school\n",
    "educ_num_map = {i:8 for i in range(1,8)}\n",
    "\n",
    "educ_map = {\n",
    "    'Preschool': '<HS',\n",
    "    '1st-4th': '<HS',\n",
    "    '5th-6th': '<HS',\n",
    "    '7th-8th': '<HS',\n",
    "    '9th': '<HS',\n",
    "    '10th': '<HS',\n",
    "    '11th': '<HS',\n",
    "    '12th': '<HS'\n",
    "}\n",
    "\n",
    "df.replace({'education_num': educ_num_map}, inplace=True)\n",
    "df.replace({'education': educ_map}, inplace=True)"
   ]
  },
  {
   "cell_type": "code",
   "execution_count": 29,
   "metadata": {},
   "outputs": [
    {
     "data": {
      "text/plain": [
       "HS-grad         6574\n",
       "Some-college    3972\n",
       "Bachelors       3240\n",
       "<HS             2183\n",
       "Masters         1204\n",
       "Assoc-voc        934\n",
       "Assoc-acdm       678\n",
       "Prof-school      448\n",
       "Doctorate        301\n",
       "Name: education, dtype: int64"
      ]
     },
     "execution_count": 29,
     "metadata": {},
     "output_type": "execute_result"
    }
   ],
   "source": [
    "# Check if map was accurate\n",
    "df.education.value_counts()"
   ]
  },
  {
   "cell_type": "markdown",
   "metadata": {},
   "source": [
    "### Marital Status (dependent variable)"
   ]
  },
  {
   "cell_type": "code",
   "execution_count": 30,
   "metadata": {},
   "outputs": [],
   "source": [
    "# Negative marriage outcome\n",
    "neg_marital_status = ['Divorced', 'Separated', 'Married-spouse-absent']\n",
    "\n",
    "# Positive marriage outcome\n",
    "married = df.marital_status == 'Married-civ-spouse'\n",
    "not_married = df.marital_status.isin(neg_marital_status)"
   ]
  },
  {
   "cell_type": "code",
   "execution_count": 31,
   "metadata": {},
   "outputs": [
    {
     "data": {
      "text/html": [
       "<div>\n",
       "<style scoped>\n",
       "    .dataframe tbody tr th:only-of-type {\n",
       "        vertical-align: middle;\n",
       "    }\n",
       "\n",
       "    .dataframe tbody tr th {\n",
       "        vertical-align: top;\n",
       "    }\n",
       "\n",
       "    .dataframe thead th {\n",
       "        text-align: right;\n",
       "    }\n",
       "</style>\n",
       "<table border=\"1\" class=\"dataframe\">\n",
       "  <thead>\n",
       "    <tr style=\"text-align: right;\">\n",
       "      <th></th>\n",
       "      <th>age</th>\n",
       "      <th>workclass</th>\n",
       "      <th>education</th>\n",
       "      <th>education_num</th>\n",
       "      <th>marital_status</th>\n",
       "      <th>occupation</th>\n",
       "      <th>race</th>\n",
       "      <th>sex</th>\n",
       "      <th>capital_gain</th>\n",
       "      <th>capital_loss</th>\n",
       "      <th>hours_per_week</th>\n",
       "      <th>native_country</th>\n",
       "      <th>income</th>\n",
       "    </tr>\n",
       "  </thead>\n",
       "  <tbody>\n",
       "    <tr>\n",
       "      <th>2</th>\n",
       "      <td>38</td>\n",
       "      <td>Private</td>\n",
       "      <td>HS-grad</td>\n",
       "      <td>9</td>\n",
       "      <td>Divorced</td>\n",
       "      <td>Handlers-cleaners</td>\n",
       "      <td>White</td>\n",
       "      <td>Male</td>\n",
       "      <td>0</td>\n",
       "      <td>0</td>\n",
       "      <td>40</td>\n",
       "      <td>United-States</td>\n",
       "      <td>&lt;=85k</td>\n",
       "    </tr>\n",
       "    <tr>\n",
       "      <th>6</th>\n",
       "      <td>49</td>\n",
       "      <td>Private</td>\n",
       "      <td>&lt;HS</td>\n",
       "      <td>8</td>\n",
       "      <td>Married-spouse-absent</td>\n",
       "      <td>Other-service</td>\n",
       "      <td>Black</td>\n",
       "      <td>Female</td>\n",
       "      <td>0</td>\n",
       "      <td>0</td>\n",
       "      <td>16</td>\n",
       "      <td>Jamaica</td>\n",
       "      <td>&lt;=85k</td>\n",
       "    </tr>\n",
       "    <tr>\n",
       "      <th>19</th>\n",
       "      <td>43</td>\n",
       "      <td>Self-emp-not-inc</td>\n",
       "      <td>Masters</td>\n",
       "      <td>14</td>\n",
       "      <td>Divorced</td>\n",
       "      <td>Exec-managerial</td>\n",
       "      <td>White</td>\n",
       "      <td>Female</td>\n",
       "      <td>0</td>\n",
       "      <td>0</td>\n",
       "      <td>45</td>\n",
       "      <td>United-States</td>\n",
       "      <td>&gt;85k</td>\n",
       "    </tr>\n",
       "    <tr>\n",
       "      <th>21</th>\n",
       "      <td>54</td>\n",
       "      <td>Private</td>\n",
       "      <td>HS-grad</td>\n",
       "      <td>9</td>\n",
       "      <td>Separated</td>\n",
       "      <td>Other-service</td>\n",
       "      <td>Black</td>\n",
       "      <td>Female</td>\n",
       "      <td>0</td>\n",
       "      <td>0</td>\n",
       "      <td>20</td>\n",
       "      <td>United-States</td>\n",
       "      <td>&lt;=85k</td>\n",
       "    </tr>\n",
       "    <tr>\n",
       "      <th>24</th>\n",
       "      <td>59</td>\n",
       "      <td>Private</td>\n",
       "      <td>HS-grad</td>\n",
       "      <td>9</td>\n",
       "      <td>Divorced</td>\n",
       "      <td>Tech-support</td>\n",
       "      <td>White</td>\n",
       "      <td>Female</td>\n",
       "      <td>0</td>\n",
       "      <td>0</td>\n",
       "      <td>40</td>\n",
       "      <td>United-States</td>\n",
       "      <td>&lt;=85k</td>\n",
       "    </tr>\n",
       "    <tr>\n",
       "      <th>...</th>\n",
       "      <td>...</td>\n",
       "      <td>...</td>\n",
       "      <td>...</td>\n",
       "      <td>...</td>\n",
       "      <td>...</td>\n",
       "      <td>...</td>\n",
       "      <td>...</td>\n",
       "      <td>...</td>\n",
       "      <td>...</td>\n",
       "      <td>...</td>\n",
       "      <td>...</td>\n",
       "      <td>...</td>\n",
       "      <td>...</td>\n",
       "    </tr>\n",
       "    <tr>\n",
       "      <th>32540</th>\n",
       "      <td>45</td>\n",
       "      <td>State-gov</td>\n",
       "      <td>HS-grad</td>\n",
       "      <td>9</td>\n",
       "      <td>Separated</td>\n",
       "      <td>Adm-clerical</td>\n",
       "      <td>White</td>\n",
       "      <td>Female</td>\n",
       "      <td>0</td>\n",
       "      <td>0</td>\n",
       "      <td>40</td>\n",
       "      <td>United-States</td>\n",
       "      <td>&lt;=85k</td>\n",
       "    </tr>\n",
       "    <tr>\n",
       "      <th>32543</th>\n",
       "      <td>45</td>\n",
       "      <td>Local-gov</td>\n",
       "      <td>Assoc-acdm</td>\n",
       "      <td>12</td>\n",
       "      <td>Divorced</td>\n",
       "      <td>Prof-specialty</td>\n",
       "      <td>White</td>\n",
       "      <td>Female</td>\n",
       "      <td>0</td>\n",
       "      <td>0</td>\n",
       "      <td>48</td>\n",
       "      <td>United-States</td>\n",
       "      <td>&lt;=85k</td>\n",
       "    </tr>\n",
       "    <tr>\n",
       "      <th>32544</th>\n",
       "      <td>31</td>\n",
       "      <td>Private</td>\n",
       "      <td>Masters</td>\n",
       "      <td>14</td>\n",
       "      <td>Divorced</td>\n",
       "      <td>Other-service</td>\n",
       "      <td>Other</td>\n",
       "      <td>Female</td>\n",
       "      <td>0</td>\n",
       "      <td>0</td>\n",
       "      <td>30</td>\n",
       "      <td>United-States</td>\n",
       "      <td>&lt;=85k</td>\n",
       "    </tr>\n",
       "    <tr>\n",
       "      <th>32546</th>\n",
       "      <td>37</td>\n",
       "      <td>Private</td>\n",
       "      <td>Assoc-acdm</td>\n",
       "      <td>12</td>\n",
       "      <td>Divorced</td>\n",
       "      <td>Tech-support</td>\n",
       "      <td>White</td>\n",
       "      <td>Female</td>\n",
       "      <td>0</td>\n",
       "      <td>0</td>\n",
       "      <td>40</td>\n",
       "      <td>United-States</td>\n",
       "      <td>&lt;=85k</td>\n",
       "    </tr>\n",
       "    <tr>\n",
       "      <th>32549</th>\n",
       "      <td>43</td>\n",
       "      <td>State-gov</td>\n",
       "      <td>Some-college</td>\n",
       "      <td>10</td>\n",
       "      <td>Divorced</td>\n",
       "      <td>Adm-clerical</td>\n",
       "      <td>White</td>\n",
       "      <td>Female</td>\n",
       "      <td>0</td>\n",
       "      <td>0</td>\n",
       "      <td>40</td>\n",
       "      <td>United-States</td>\n",
       "      <td>&lt;=85k</td>\n",
       "    </tr>\n",
       "  </tbody>\n",
       "</table>\n",
       "<p>5512 rows × 13 columns</p>\n",
       "</div>"
      ],
      "text/plain": [
       "       age         workclass     education  education_num  \\\n",
       "2       38           Private       HS-grad              9   \n",
       "6       49           Private           <HS              8   \n",
       "19      43  Self-emp-not-inc       Masters             14   \n",
       "21      54           Private       HS-grad              9   \n",
       "24      59           Private       HS-grad              9   \n",
       "...    ...               ...           ...            ...   \n",
       "32540   45         State-gov       HS-grad              9   \n",
       "32543   45         Local-gov    Assoc-acdm             12   \n",
       "32544   31           Private       Masters             14   \n",
       "32546   37           Private    Assoc-acdm             12   \n",
       "32549   43         State-gov  Some-college             10   \n",
       "\n",
       "              marital_status         occupation   race     sex  capital_gain  \\\n",
       "2                   Divorced  Handlers-cleaners  White    Male             0   \n",
       "6      Married-spouse-absent      Other-service  Black  Female             0   \n",
       "19                  Divorced    Exec-managerial  White  Female             0   \n",
       "21                 Separated      Other-service  Black  Female             0   \n",
       "24                  Divorced       Tech-support  White  Female             0   \n",
       "...                      ...                ...    ...     ...           ...   \n",
       "32540              Separated       Adm-clerical  White  Female             0   \n",
       "32543               Divorced     Prof-specialty  White  Female             0   \n",
       "32544               Divorced      Other-service  Other  Female             0   \n",
       "32546               Divorced       Tech-support  White  Female             0   \n",
       "32549               Divorced       Adm-clerical  White  Female             0   \n",
       "\n",
       "       capital_loss  hours_per_week native_country income  \n",
       "2                 0              40  United-States  <=85k  \n",
       "6                 0              16        Jamaica  <=85k  \n",
       "19                0              45  United-States   >85k  \n",
       "21                0              20  United-States  <=85k  \n",
       "24                0              40  United-States  <=85k  \n",
       "...             ...             ...            ...    ...  \n",
       "32540             0              40  United-States  <=85k  \n",
       "32543             0              48  United-States  <=85k  \n",
       "32544             0              30  United-States  <=85k  \n",
       "32546             0              40  United-States  <=85k  \n",
       "32549             0              40  United-States  <=85k  \n",
       "\n",
       "[5512 rows x 13 columns]"
      ]
     },
     "execution_count": 31,
     "metadata": {},
     "output_type": "execute_result"
    }
   ],
   "source": [
    "df[not_married]"
   ]
  },
  {
   "cell_type": "code",
   "execution_count": 32,
   "metadata": {},
   "outputs": [
    {
     "name": "stdout",
     "output_type": "stream",
     "text": [
      "Divorced                 4206\n",
      "Separated                 937\n",
      "Married-spouse-absent     369\n",
      "Name: marital_status, dtype: int64\n",
      "\n",
      "Married-civ-spouse    14022\n",
      "Name: marital_status, dtype: int64\n"
     ]
    }
   ],
   "source": [
    "# Check if filtering worked\n",
    "print(df[not_married].marital_status.value_counts())\n",
    "print('')\n",
    "print(df[married].marital_status.value_counts())"
   ]
  },
  {
   "cell_type": "code",
   "execution_count": 43,
   "metadata": {},
   "outputs": [],
   "source": [
    "# Binary encode categorical target variable\n",
    "df.loc[df.marital_status.isin(neg_marital_status), 'marital_status'] = 0\n",
    "df.loc[df.marital_status == 'Married-civ-spouse', 'marital_status'] = 1"
   ]
  },
  {
   "cell_type": "code",
   "execution_count": 44,
   "metadata": {},
   "outputs": [
    {
     "data": {
      "text/plain": [
       "1    14022\n",
       "0     5512\n",
       "Name: marital_status, dtype: int64"
      ]
     },
     "execution_count": 44,
     "metadata": {},
     "output_type": "execute_result"
    }
   ],
   "source": [
    "df.marital_status.value_counts()"
   ]
  },
  {
   "cell_type": "markdown",
   "metadata": {},
   "source": [
    "## 3. Null Accuracy"
   ]
  },
  {
   "cell_type": "markdown",
   "metadata": {},
   "source": [
    "#### This is a good time to acknowledge null accuracy. If we assume every marraige will be successful, we'd be correct 71.7% of the time."
   ]
  },
  {
   "cell_type": "code",
   "execution_count": 49,
   "metadata": {},
   "outputs": [
    {
     "data": {
      "text/plain": [
       "0.7178253301935088"
      ]
     },
     "execution_count": 49,
     "metadata": {},
     "output_type": "execute_result"
    }
   ],
   "source": [
    "num_married = df.marital_status.value_counts()[1]\n",
    "num_divorced = df.marital_status.value_counts()[0]\n",
    "\n",
    "null_accuracy = num_married / (num_married + num_divorced)\n",
    "null_accuracy"
   ]
  },
  {
   "cell_type": "markdown",
   "metadata": {},
   "source": [
    "## Move cleaned dataset to a new workbook"
   ]
  },
  {
   "cell_type": "code",
   "execution_count": 92,
   "metadata": {},
   "outputs": [],
   "source": [
    "df.to_csv('marriage.csv')"
   ]
  }
 ],
 "metadata": {
  "kernelspec": {
   "display_name": "Python 3",
   "language": "python",
   "name": "python3"
  },
  "language_info": {
   "codemirror_mode": {
    "name": "ipython",
    "version": 3
   },
   "file_extension": ".py",
   "mimetype": "text/x-python",
   "name": "python",
   "nbconvert_exporter": "python",
   "pygments_lexer": "ipython3",
   "version": "3.7.6"
  }
 },
 "nbformat": 4,
 "nbformat_minor": 4
}
